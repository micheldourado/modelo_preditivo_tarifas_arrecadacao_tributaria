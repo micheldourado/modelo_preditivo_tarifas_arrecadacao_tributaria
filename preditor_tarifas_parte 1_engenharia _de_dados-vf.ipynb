{
 "cells": [
  {
   "cell_type": "markdown",
   "metadata": {},
   "source": [
    "## Trabalho de Conclusão de Curso\n",
    "## Pós Graduação Ciência de Dados e Inteligência Artificial - PUCRS\n",
    "\n",
    "### UTILIZANDO TÉCNICAS DE MACHINE LEARNING NA PRECIFICAÇÃO DE TARIFAS DE ARRECADAÇÃO TRIBUTÁRIA NO BRASIL\n",
    "\n",
    "## Michel Dourado"
   ]
  },
  {
   "cell_type": "markdown",
   "metadata": {},
   "source": [
    "### Parte 1 - Engenharia de dados\n"
   ]
  },
  {
   "cell_type": "code",
   "execution_count": 1,
   "metadata": {},
   "outputs": [
    {
     "name": "stdout",
     "output_type": "stream",
     "text": [
      "Versão da Linguagem Python Usada Neste Jupyter Notebook: 3.10.9\n"
     ]
    }
   ],
   "source": [
    "# Versão da Linguagem Python\n",
    "from platform import python_version\n",
    "print('Versão da Linguagem Python Usada Neste Jupyter Notebook:', python_version())"
   ]
  },
  {
   "cell_type": "code",
   "execution_count": 2,
   "metadata": {},
   "outputs": [],
   "source": [
    "# Para atualizar um pacote, execute o comando abaixo no terminal ou prompt de comando:\n",
    "# pip install -U nome_pacote\n",
    "\n",
    "# Para instalar a versão exata de um pacote, execute o comando abaixo no terminal ou prompt de comando:\n",
    "#!pip install nome_pacote==versão_desejada\n",
    "\n",
    "# Depois de instalar ou atualizar o pacote, reinicie o jupyter notebook.\n",
    "\n",
    "# Instala o pacote watermark. \n",
    "# Esse pacote é usado para gravar as versões de outros pacotes usados neste jupyter notebook.\n",
    "!pip install -q -U watermark"
   ]
  },
  {
   "cell_type": "code",
   "execution_count": 3,
   "metadata": {},
   "outputs": [],
   "source": [
    "# https://pypi.org/project/findspark/\n",
    "!pip install -q findspark"
   ]
  },
  {
   "cell_type": "code",
   "execution_count": 4,
   "metadata": {},
   "outputs": [],
   "source": [
    "# Importa o findspark e inicializa\n",
    "import findspark\n",
    "findspark.init()"
   ]
  },
  {
   "cell_type": "code",
   "execution_count": 5,
   "metadata": {
    "id": "CPDsD_yhZrO1"
   },
   "outputs": [],
   "source": [
    "# Imports\n",
    "import pyspark\n",
    "import pandas as pd\n",
    "import numpy as np\n",
    "import seaborn as sns\n",
    "from matplotlib import pyplot as plt\n",
    "#from sklearn import linear_model\n",
    "\n",
    "from sklearn.linear_model import LinearRegression\n",
    "from sklearn.ensemble import RandomForestRegressor\n",
    "from sklearn.metrics import mean_squared_error\n",
    "from sklearn.model_selection import train_test_split\n",
    "\n",
    "from sklearn import metrics \n",
    "from sklearn import preprocessing\n",
    "from pyspark import SparkConf, SparkContext\n",
    "from pyspark.sql import SparkSession, SQLContext, Window\n",
    "from pyspark.sql.types import *\n",
    "from pyspark.sql.functions import *\n",
    "from pyspark.ml.linalg import Vectors\n",
    "from pyspark.ml.feature import StringIndexer\n",
    "from pyspark.ml.regression import LinearRegression\n",
    "from pyspark.mllib.evaluation import RegressionMetrics\n",
    "from pyspark.ml.linalg import Vectors\n",
    "from pyspark.ml.feature import StringIndexer\n",
    "from pyspark.ml.stat import Correlation\n",
    "from pyspark.ml.feature import MinMaxScaler\n",
    "from pyspark.ml.feature import VectorAssembler\n",
    "from pyspark.ml import Pipeline\n",
    "from pyspark.ml.tuning import ParamGridBuilder, CrossValidator, CrossValidatorModel\n",
    "from pyspark.ml.feature import VectorAssembler, StandardScaler\n",
    "from pyspark.ml.evaluation import RegressionEvaluator\n",
    "import warnings\n",
    "warnings.filterwarnings(\"ignore\")\n",
    "pd.set_option('display.float_format', lambda x : '%.2f' % x)\n",
    "%matplotlib inline"
   ]
  },
  {
   "cell_type": "code",
   "execution_count": 6,
   "metadata": {},
   "outputs": [],
   "source": [
    "# Formatação das saídas\n",
    "pd.set_option('display.max_columns', 200)\n",
    "pd.set_option('display.max_colwidth', 400)\n",
    "from matplotlib.axes._axes import _log as matplotlib_axes_logger\n",
    "matplotlib_axes_logger.setLevel('ERROR')"
   ]
  },
  {
   "cell_type": "code",
   "execution_count": 7,
   "metadata": {},
   "outputs": [
    {
     "name": "stdout",
     "output_type": "stream",
     "text": [
      "Author: Michel Dourado\n",
      "\n",
      "pyspark   : 3.4.1\n",
      "sklearn   : 1.2.1\n",
      "sys       : 3.10.9 | packaged by Anaconda, Inc. | (main, Mar  1 2023, 18:18:15) [MSC v.1916 64 bit (AMD64)]\n",
      "numpy     : 1.23.5\n",
      "pandas    : 1.5.3\n",
      "matplotlib: 3.7.0\n",
      "seaborn   : 0.12.2\n",
      "findspark : 2.0.1\n",
      "\n"
     ]
    }
   ],
   "source": [
    "# Versões dos pacotes usados neste jupyter notebook\n",
    "%reload_ext watermark\n",
    "%watermark -a \"Michel Dourado\" --iversions"
   ]
  },
  {
   "cell_type": "markdown",
   "metadata": {},
   "source": [
    "## Preparando o Ambiente Spark\n",
    "\n",
    "Conectando em um cluster Spark."
   ]
  },
  {
   "cell_type": "code",
   "execution_count": 8,
   "metadata": {
    "id": "eeFpjeqJZ6Nf"
   },
   "outputs": [],
   "source": [
    "# Definindo semente aleatória (seed) para reprodutibilidade do notebook\n",
    "rnd_seed = 33\n",
    "np.random.seed = rnd_seed\n",
    "np.random.set_state = rnd_seed"
   ]
  },
  {
   "cell_type": "code",
   "execution_count": 9,
   "metadata": {
    "id": "BQTuvaMhKkrK"
   },
   "outputs": [],
   "source": [
    "# Criando o Spark Context\n",
    "sc = SparkContext(appName = \"rate_predictor\")"
   ]
  },
  {
   "cell_type": "code",
   "execution_count": 10,
   "metadata": {},
   "outputs": [],
   "source": [
    "sc.setLogLevel(\"ERROR\")"
   ]
  },
  {
   "cell_type": "code",
   "execution_count": 11,
   "metadata": {},
   "outputs": [],
   "source": [
    "# Criando as sessões Spark\n",
    "spark_session_arrec = SparkSession.Builder().getOrCreate()"
   ]
  },
  {
   "cell_type": "code",
   "execution_count": 12,
   "metadata": {},
   "outputs": [],
   "source": [
    "# Criando as sessões Spark\n",
    "spark_session_mc = SparkSession.Builder().getOrCreate()"
   ]
  },
  {
   "cell_type": "code",
   "execution_count": 13,
   "metadata": {
    "colab": {
     "base_uri": "https://localhost:8080/",
     "height": 219
    },
    "id": "Ec8oNb8qK6Pm",
    "outputId": "1653edd4-1ee3-41fa-d53c-6fe717b0aac5"
   },
   "outputs": [
    {
     "data": {
      "text/html": [
       "\n",
       "            <div>\n",
       "                <p><b>SparkSession - in-memory</b></p>\n",
       "                \n",
       "        <div>\n",
       "            <p><b>SparkContext</b></p>\n",
       "\n",
       "            <p><a href=\"http://192.168.0.6:4040\">Spark UI</a></p>\n",
       "\n",
       "            <dl>\n",
       "              <dt>Version</dt>\n",
       "                <dd><code>v3.4.1</code></dd>\n",
       "              <dt>Master</dt>\n",
       "                <dd><code>local[*]</code></dd>\n",
       "              <dt>AppName</dt>\n",
       "                <dd><code>rate_predictor</code></dd>\n",
       "            </dl>\n",
       "        </div>\n",
       "        \n",
       "            </div>\n",
       "        "
      ],
      "text/plain": [
       "<pyspark.sql.session.SparkSession at 0x1e7583bb0a0>"
      ]
     },
     "execution_count": 13,
     "metadata": {},
     "output_type": "execute_result"
    }
   ],
   "source": [
    "# Visualizando os objetos spark_session\n",
    "spark_session_arrec"
   ]
  },
  {
   "cell_type": "code",
   "execution_count": 14,
   "metadata": {},
   "outputs": [
    {
     "data": {
      "text/html": [
       "\n",
       "            <div>\n",
       "                <p><b>SparkSession - in-memory</b></p>\n",
       "                \n",
       "        <div>\n",
       "            <p><b>SparkContext</b></p>\n",
       "\n",
       "            <p><a href=\"http://192.168.0.6:4040\">Spark UI</a></p>\n",
       "\n",
       "            <dl>\n",
       "              <dt>Version</dt>\n",
       "                <dd><code>v3.4.1</code></dd>\n",
       "              <dt>Master</dt>\n",
       "                <dd><code>local[*]</code></dd>\n",
       "              <dt>AppName</dt>\n",
       "                <dd><code>rate_predictor</code></dd>\n",
       "            </dl>\n",
       "        </div>\n",
       "        \n",
       "            </div>\n",
       "        "
      ],
      "text/plain": [
       "<pyspark.sql.session.SparkSession at 0x1e7583bb0a0>"
      ]
     },
     "execution_count": 14,
     "metadata": {},
     "output_type": "execute_result"
    }
   ],
   "source": [
    "# Visualizando os objetos spark_session\n",
    "spark_session_mc"
   ]
  },
  {
   "cell_type": "markdown",
   "metadata": {},
   "source": [
    "## Carregando os Dados\n",
    "\n",
    "As fontes de dados são 2 datasets contendo dados de séries históricas sobre guias arrecadadas entre 2019 e 2023 por entes públicos no Brasil através de uma entidade financeira, o primeiro dataset, chamado de dados_arrec contêm, dentre outras variáveis, a quantidade de guias arrecadadas por cliente e o segundo dataset, chamado de dados_mc, contêm, dentre outros recursos, o volume em reais de tarifas arrecadadas por cliente, a junção dos 2 datasets irá compor um dataset final com o valor de tarifa praticada calculado.\n",
    "\n",
    "Como o tamanho dos datasets é um pouco considerável, aproxidamente 1,5 milhão de linhas e 400 mil linhas respectivamente, a biblioteca Pandas não se mostrou eficiente para o carregamento dos dados, então foi utilizada a biblioteca pySpark, que se mostrou bem mais adequada e robusta para realizar as tarefas de carregamento, data wrangling (que consiste nas tarefas de tratamento e limpeza dos dados, como a remoção de valores nulos dentre outras atividades semelhantes), além de engenharia de atributos e o Pandas foi utilizado para as atividades de análise exploratória, por ser mais adequado e amigável para essa finalidade."
   ]
  },
  {
   "cell_type": "markdown",
   "metadata": {},
   "source": [
    "### Dataset arrecadacao"
   ]
  },
  {
   "cell_type": "code",
   "execution_count": 15,
   "metadata": {
    "id": "MrRYMdxGM2SJ"
   },
   "outputs": [],
   "source": [
    "# Carrega os dados a partir da sessão Spark\n",
    "df_spark_arrec = spark_session_arrec.read.csv('dados/dataset_arrecadacao_vf.csv', header = 'true', sep=',', inferSchema = 'true') "
   ]
  },
  {
   "cell_type": "code",
   "execution_count": 16,
   "metadata": {},
   "outputs": [
    {
     "data": {
      "text/plain": [
       "pyspark.sql.dataframe.DataFrame"
      ]
     },
     "execution_count": 16,
     "metadata": {},
     "output_type": "execute_result"
    }
   ],
   "source": [
    "# Tipo do objeto\n",
    "type(df_spark_arrec)"
   ]
  },
  {
   "cell_type": "code",
   "execution_count": 17,
   "metadata": {
    "colab": {
     "base_uri": "https://localhost:8080/"
    },
    "id": "9COe3UZhO0D5",
    "outputId": "dfd48aee-686c-4ec5-8892-214e16a64c72"
   },
   "outputs": [
    {
     "name": "stdout",
     "output_type": "stream",
     "text": [
      "+-------+---------+---+-------+---------+----------+-------------+\n",
      "|Periodo|       ID| UF| Esfera|    Canal|Quantidade|       Volume|\n",
      "+-------+---------+---+-------+---------+----------+-------------+\n",
      "|07/2019|416383829| BR|FEDERAL|    Gefin|         2|       786,55|\n",
      "|07/2019|416383829| BR|FEDERAL|    Caixa|   306.480|14658804861,3|\n",
      "|07/2019|416383829| BR|FEDERAL|      TAA|   189.035|  154809808,6|\n",
      "|07/2019|416383829| BR|FEDERAL|      TAA|   114.248|  78916937,81|\n",
      "|07/2019|416383829| BR|FEDERAL|      TAA|    71.002|  90899116,33|\n",
      "|07/2019|416383829| BR|FEDERAL|    Gefin|   357.123|2529176259,41|\n",
      "|07/2019|416383829| BR|FEDERAL|B. Postal|    65.285|  13261196,42|\n",
      "|07/2019|416383829| BR|FEDERAL|    Coban|    46.934|  10207974,77|\n",
      "|07/2019|416383829| BR|FEDERAL|   Outros|         2|       572,39|\n",
      "|07/2019|416383829| BR|FEDERAL|   Outros|     2.210| 196659057,73|\n",
      "|07/2019|416383829| BR|FEDERAL|   Outros|        93|  11309766,62|\n",
      "|07/2019|416383829| BR|FEDERAL|   Outros|     2.045|  17502660,47|\n",
      "|07/2019|416383829| BR|FEDERAL|   Outros|         6|      7690,33|\n",
      "|07/2019|416383829| BR|FEDERAL|   Outros|         1|         2234|\n",
      "|07/2019|416383829| BR|FEDERAL| Internet|       417|    1679490,3|\n",
      "|07/2019|416383829| BR|FEDERAL|   Outros|        44| 391805632,33|\n",
      "|07/2019|416383829| BR|FEDERAL| SISCOMEX|   210.446|2759374025,95|\n",
      "|07/2019|416383829| BR|FEDERAL|   Outros|       141|  82590898,09|\n",
      "|07/2019|416383829| BR|FEDERAL|   Outros|       193|   3820408,03|\n",
      "|07/2019|416383829| BR|FEDERAL|   Outros|         3|    226623,37|\n",
      "+-------+---------+---+-------+---------+----------+-------------+\n",
      "only showing top 20 rows\n",
      "\n"
     ]
    }
   ],
   "source": [
    "# Visualiza os dados\n",
    "df_spark_arrec.show()"
   ]
  },
  {
   "cell_type": "code",
   "execution_count": 18,
   "metadata": {
    "colab": {
     "base_uri": "https://localhost:8080/"
    },
    "id": "sBjjtJ9kO-fO",
    "outputId": "cff87ea9-d91d-43ea-f30b-3b97990e55d2"
   },
   "outputs": [
    {
     "data": {
      "text/plain": [
       "1422112"
      ]
     },
     "execution_count": 18,
     "metadata": {},
     "output_type": "execute_result"
    }
   ],
   "source": [
    "# Verifica o número de linhas\n",
    "df_spark_arrec.count()"
   ]
  },
  {
   "cell_type": "code",
   "execution_count": 19,
   "metadata": {
    "colab": {
     "base_uri": "https://localhost:8080/"
    },
    "id": "lLR1WMTfO42i",
    "outputId": "e98a0c8d-550b-46af-eb84-9670cec7fd14"
   },
   "outputs": [
    {
     "name": "stdout",
     "output_type": "stream",
     "text": [
      "root\n",
      " |-- Periodo: string (nullable = true)\n",
      " |-- ID: integer (nullable = true)\n",
      " |-- UF: string (nullable = true)\n",
      " |-- Esfera: string (nullable = true)\n",
      " |-- Canal: string (nullable = true)\n",
      " |-- Quantidade: string (nullable = true)\n",
      " |-- Volume: string (nullable = true)\n",
      "\n"
     ]
    }
   ],
   "source": [
    "# Visualiza os metadados (schema)\n",
    "df_spark_arrec.printSchema()"
   ]
  },
  {
   "cell_type": "markdown",
   "metadata": {},
   "source": [
    "### Dataset MC"
   ]
  },
  {
   "cell_type": "code",
   "execution_count": 130,
   "metadata": {},
   "outputs": [],
   "source": [
    "# Carrega os dados a partir da sessão Spark\n",
    "df_spark_mc = spark_session_mc.read.csv('dados/dataset_mc_arrec_vf.csv', header = 'true', sep=',', inferSchema = 'true') "
   ]
  },
  {
   "cell_type": "code",
   "execution_count": 131,
   "metadata": {},
   "outputs": [
    {
     "data": {
      "text/plain": [
       "pyspark.sql.dataframe.DataFrame"
      ]
     },
     "execution_count": 131,
     "metadata": {},
     "output_type": "execute_result"
    }
   ],
   "source": [
    "type(df_spark_mc)"
   ]
  },
  {
   "cell_type": "code",
   "execution_count": 132,
   "metadata": {},
   "outputs": [
    {
     "name": "stdout",
     "output_type": "stream",
     "text": [
      "+----------+----+---+---------+-------+-------+-----------------------+-----------------+\n",
      "|   PERIODO| ANO|MES|       ID| MARGEM| TARIFA|COD_TIPO_CARTEIRA_RELAC|SG_UF_MUN_END_CLI|\n",
      "+----------+----+---+---------+-------+-------+-----------------------+-----------------+\n",
      "|01/01/2022|2022|  1|200084156|  618,5| 638,73|                    406|               SP|\n",
      "|01/02/2022|2022|  2|200084156| 843,65| 854,46|                    406|               SP|\n",
      "|01/03/2022|2022|  3|200084156|5941,75|6254,47|                    406|               SP|\n",
      "|01/04/2022|2022|  4|200084156|2695,41|2843,33|                    406|               SP|\n",
      "|01/05/2022|2022|  5|200084156|2328,03|2461,86|                    406|               SP|\n",
      "|01/06/2022|2022|  6|200084156|2483,55| 2623,3|                    406|               SP|\n",
      "|01/07/2022|2022|  7|200084156|2446,43|2524,35|                    406|               SP|\n",
      "|01/08/2022|2022|  8|200084156| 2257,1|2375,84|                    406|               SP|\n",
      "|01/09/2022|2022|  9|200084156|2311,48|2405,84|                    406|               SP|\n",
      "|01/10/2022|2022| 10|200084156|2346,01|2450,81|                    406|               SP|\n",
      "|01/11/2022|2022| 11|200084156|2333,38|2483,78|                    406|               SP|\n",
      "|01/12/2022|2022| 12|200084156|2758,95|2895,56|                    406|               SP|\n",
      "|01/01/2022|2022|  1|200152593| 446,64| 483,98|                    406|               SP|\n",
      "|01/02/2022|2022|  2|200152593| 275,68| 296,19|                    406|               SP|\n",
      "|01/03/2022|2022|  3|200152593| 604,44| 648,96|                    406|               SP|\n",
      "|01/04/2022|2022|  4|200152593|  585,9|  628,9|                    406|               SP|\n",
      "|01/05/2022|2022|  5|200152593|1968,58| 2165,5|                    406|               SP|\n",
      "|01/06/2022|2022|  6|200152593|5700,13| 6282,9|                    406|               SP|\n",
      "|01/07/2022|2022|  7|200152593|4533,49| 5062,5|                    406|               SP|\n",
      "|01/08/2022|2022|  8|200152593|4923,86| 5507,7|                    406|               SP|\n",
      "+----------+----+---+---------+-------+-------+-----------------------+-----------------+\n",
      "only showing top 20 rows\n",
      "\n"
     ]
    }
   ],
   "source": [
    "df_spark_mc.show()"
   ]
  },
  {
   "cell_type": "code",
   "execution_count": 133,
   "metadata": {},
   "outputs": [
    {
     "data": {
      "text/plain": [
       "275719"
      ]
     },
     "execution_count": 133,
     "metadata": {},
     "output_type": "execute_result"
    }
   ],
   "source": [
    "df_spark_mc.count()"
   ]
  },
  {
   "cell_type": "code",
   "execution_count": 134,
   "metadata": {},
   "outputs": [
    {
     "name": "stdout",
     "output_type": "stream",
     "text": [
      "root\n",
      " |-- PERIODO: string (nullable = true)\n",
      " |-- ANO: integer (nullable = true)\n",
      " |-- MES: integer (nullable = true)\n",
      " |-- ID: integer (nullable = true)\n",
      " |-- MARGEM: string (nullable = true)\n",
      " |-- TARIFA: string (nullable = true)\n",
      " |-- COD_TIPO_CARTEIRA_RELAC: integer (nullable = true)\n",
      " |-- SG_UF_MUN_END_CLI: string (nullable = true)\n",
      "\n"
     ]
    }
   ],
   "source": [
    "df_spark_mc.printSchema()"
   ]
  },
  {
   "cell_type": "markdown",
   "metadata": {},
   "source": [
    "## Data Wrangling com SparkSQL\n",
    "Limpeza e tratamento dos dados, como remoção de valores nulos e outras atividades semelhantes."
   ]
  },
  {
   "cell_type": "markdown",
   "metadata": {},
   "source": [
    "### DATATSET DF_SPARK_ARREC"
   ]
  },
  {
   "cell_type": "code",
   "execution_count": 135,
   "metadata": {},
   "outputs": [],
   "source": [
    "# Cria uma tabela temporária a partir do dataframe\n",
    "# As tabelas temporárias são úteis quando você deseja que o conjunto de resultados fique visível \n",
    "# para todas as outras sessões Spark\n",
    "df_spark_arrec.createOrReplaceTempView('dados_arrec') "
   ]
  },
  {
   "cell_type": "code",
   "execution_count": 21,
   "metadata": {},
   "outputs": [],
   "source": [
    "# Executa uma consulta SQL\n",
    "df_temp_arrec = spark_session_arrec.sql(\"select * from dados_arrec\");"
   ]
  },
  {
   "cell_type": "code",
   "execution_count": 22,
   "metadata": {},
   "outputs": [
    {
     "data": {
      "text/plain": [
       "pyspark.sql.dataframe.DataFrame"
      ]
     },
     "execution_count": 22,
     "metadata": {},
     "output_type": "execute_result"
    }
   ],
   "source": [
    "type(df_temp_arrec)"
   ]
  },
  {
   "cell_type": "code",
   "execution_count": 23,
   "metadata": {
    "scrolled": true
   },
   "outputs": [
    {
     "name": "stdout",
     "output_type": "stream",
     "text": [
      "root\n",
      " |-- Periodo: string (nullable = true)\n",
      " |-- ID: integer (nullable = true)\n",
      " |-- UF: string (nullable = true)\n",
      " |-- Esfera: string (nullable = true)\n",
      " |-- Canal: string (nullable = true)\n",
      " |-- Quantidade: string (nullable = true)\n",
      " |-- Volume: string (nullable = true)\n",
      "\n"
     ]
    }
   ],
   "source": [
    "df_temp_arrec.printSchema()"
   ]
  },
  {
   "cell_type": "code",
   "execution_count": 24,
   "metadata": {},
   "outputs": [
    {
     "name": "stdout",
     "output_type": "stream",
     "text": [
      "+-------+---------+---+-------+---------+----------+-------------+\n",
      "|Periodo|       ID| UF| Esfera|    Canal|Quantidade|       Volume|\n",
      "+-------+---------+---+-------+---------+----------+-------------+\n",
      "|07/2019|416383829| BR|FEDERAL|    Gefin|         2|       786,55|\n",
      "|07/2019|416383829| BR|FEDERAL|    Caixa|   306.480|14658804861,3|\n",
      "|07/2019|416383829| BR|FEDERAL|      TAA|   189.035|  154809808,6|\n",
      "|07/2019|416383829| BR|FEDERAL|      TAA|   114.248|  78916937,81|\n",
      "|07/2019|416383829| BR|FEDERAL|      TAA|    71.002|  90899116,33|\n",
      "|07/2019|416383829| BR|FEDERAL|    Gefin|   357.123|2529176259,41|\n",
      "|07/2019|416383829| BR|FEDERAL|B. Postal|    65.285|  13261196,42|\n",
      "|07/2019|416383829| BR|FEDERAL|    Coban|    46.934|  10207974,77|\n",
      "|07/2019|416383829| BR|FEDERAL|   Outros|         2|       572,39|\n",
      "|07/2019|416383829| BR|FEDERAL|   Outros|     2.210| 196659057,73|\n",
      "|07/2019|416383829| BR|FEDERAL|   Outros|        93|  11309766,62|\n",
      "|07/2019|416383829| BR|FEDERAL|   Outros|     2.045|  17502660,47|\n",
      "|07/2019|416383829| BR|FEDERAL|   Outros|         6|      7690,33|\n",
      "|07/2019|416383829| BR|FEDERAL|   Outros|         1|         2234|\n",
      "|07/2019|416383829| BR|FEDERAL| Internet|       417|    1679490,3|\n",
      "|07/2019|416383829| BR|FEDERAL|   Outros|        44| 391805632,33|\n",
      "|07/2019|416383829| BR|FEDERAL| SISCOMEX|   210.446|2759374025,95|\n",
      "|07/2019|416383829| BR|FEDERAL|   Outros|       141|  82590898,09|\n",
      "|07/2019|416383829| BR|FEDERAL|   Outros|       193|   3820408,03|\n",
      "|07/2019|416383829| BR|FEDERAL|   Outros|         3|    226623,37|\n",
      "+-------+---------+---+-------+---------+----------+-------------+\n",
      "only showing top 20 rows\n",
      "\n"
     ]
    }
   ],
   "source": [
    "# Visualiza os dados\n",
    "df_temp_arrec.show()"
   ]
  },
  {
   "cell_type": "code",
   "execution_count": 25,
   "metadata": {
    "id": "hOc0tS4IRAl9"
   },
   "outputs": [],
   "source": [
    "# Vamos renomear algumas colunas para facilitar a manipulação dos dados\n",
    "df_temp_arrec = df_temp_arrec.withColumnRenamed(\"Periodo\", \"mes_ano\")"
   ]
  },
  {
   "cell_type": "code",
   "execution_count": 26,
   "metadata": {},
   "outputs": [
    {
     "name": "stdout",
     "output_type": "stream",
     "text": [
      "+-------+---------+----------+\n",
      "|mes_ano|       ID|Quantidade|\n",
      "+-------+---------+----------+\n",
      "|07/2019|416383829|         2|\n",
      "|07/2019|416383829|   306.480|\n",
      "|07/2019|416383829|   189.035|\n",
      "|07/2019|416383829|   114.248|\n",
      "|07/2019|416383829|    71.002|\n",
      "|07/2019|416383829|   357.123|\n",
      "|07/2019|416383829|    65.285|\n",
      "|07/2019|416383829|    46.934|\n",
      "|07/2019|416383829|         2|\n",
      "|07/2019|416383829|     2.210|\n",
      "|07/2019|416383829|        93|\n",
      "|07/2019|416383829|     2.045|\n",
      "|07/2019|416383829|         6|\n",
      "|07/2019|416383829|         1|\n",
      "|07/2019|416383829|       417|\n",
      "|07/2019|416383829|        44|\n",
      "|07/2019|416383829|   210.446|\n",
      "|07/2019|416383829|       141|\n",
      "|07/2019|416383829|       193|\n",
      "|07/2019|416383829|         3|\n",
      "+-------+---------+----------+\n",
      "only showing top 20 rows\n",
      "\n"
     ]
    }
   ],
   "source": [
    "df_temp_arrec[['mes_ano','ID','Quantidade']].show()"
   ]
  },
  {
   "cell_type": "code",
   "execution_count": 27,
   "metadata": {},
   "outputs": [],
   "source": [
    "# Vamos dividir o dataframe extraindo o mês\n",
    "df_data_arrec = df_temp_arrec.withColumn(\"mes\", split(col(\"mes_ano\"),\"/\").getItem(0))"
   ]
  },
  {
   "cell_type": "code",
   "execution_count": 28,
   "metadata": {},
   "outputs": [],
   "source": [
    "# Vamos dividir o dataframe extraindo o ano\n",
    "df_data_arrec = df_data_arrec.withColumn(\"ano\", split(col(\"mes_ano\"),\"/\").getItem(1))"
   ]
  },
  {
   "cell_type": "code",
   "execution_count": 29,
   "metadata": {},
   "outputs": [
    {
     "name": "stdout",
     "output_type": "stream",
     "text": [
      "root\n",
      " |-- mes_ano: string (nullable = true)\n",
      " |-- ID: integer (nullable = true)\n",
      " |-- UF: string (nullable = true)\n",
      " |-- Esfera: string (nullable = true)\n",
      " |-- Canal: string (nullable = true)\n",
      " |-- Quantidade: string (nullable = true)\n",
      " |-- Volume: string (nullable = true)\n",
      " |-- mes: string (nullable = true)\n",
      " |-- ano: string (nullable = true)\n",
      "\n"
     ]
    }
   ],
   "source": [
    "# Schema\n",
    "df_data_arrec.printSchema()"
   ]
  },
  {
   "cell_type": "code",
   "execution_count": 30,
   "metadata": {},
   "outputs": [],
   "source": [
    "df_data_arrec = df_data_arrec.withColumn(\"Periodo\", concat(lit('01-'),df_data_arrec[\"mes\"], lit('-'),df_data_arrec[\"ano\"]))\n",
    "df_data_arrec = df_data_arrec.withColumn(\"Periodo\",to_date(col(\"Periodo\"),\"MM-dd-yyyy\"))"
   ]
  },
  {
   "cell_type": "code",
   "execution_count": 31,
   "metadata": {},
   "outputs": [
    {
     "name": "stdout",
     "output_type": "stream",
     "text": [
      "+----------+---+----+\n",
      "|   Periodo|mes| ano|\n",
      "+----------+---+----+\n",
      "|2019-01-07| 07|2019|\n",
      "|2019-01-07| 07|2019|\n",
      "|2019-01-07| 07|2019|\n",
      "|2019-01-07| 07|2019|\n",
      "|2019-01-07| 07|2019|\n",
      "|2019-01-07| 07|2019|\n",
      "|2019-01-07| 07|2019|\n",
      "|2019-01-07| 07|2019|\n",
      "|2019-01-07| 07|2019|\n",
      "|2019-01-07| 07|2019|\n",
      "|2019-01-07| 07|2019|\n",
      "|2019-01-07| 07|2019|\n",
      "|2019-01-07| 07|2019|\n",
      "|2019-01-07| 07|2019|\n",
      "|2019-01-07| 07|2019|\n",
      "|2019-01-07| 07|2019|\n",
      "|2019-01-07| 07|2019|\n",
      "|2019-01-07| 07|2019|\n",
      "|2019-01-07| 07|2019|\n",
      "|2019-01-07| 07|2019|\n",
      "+----------+---+----+\n",
      "only showing top 20 rows\n",
      "\n"
     ]
    }
   ],
   "source": [
    "# Visualiza os dados\n",
    "df_data_arrec[['Periodo', 'mes', 'ano']].show()"
   ]
  },
  {
   "cell_type": "code",
   "execution_count": 32,
   "metadata": {},
   "outputs": [
    {
     "name": "stdout",
     "output_type": "stream",
     "text": [
      "root\n",
      " |-- mes_ano: string (nullable = true)\n",
      " |-- ID: integer (nullable = true)\n",
      " |-- UF: string (nullable = true)\n",
      " |-- Esfera: string (nullable = true)\n",
      " |-- Canal: string (nullable = true)\n",
      " |-- Quantidade: string (nullable = true)\n",
      " |-- Volume: string (nullable = true)\n",
      " |-- mes: string (nullable = true)\n",
      " |-- ano: string (nullable = true)\n",
      " |-- Periodo: date (nullable = true)\n",
      "\n"
     ]
    }
   ],
   "source": [
    "df_data_arrec.printSchema()"
   ]
  },
  {
   "cell_type": "code",
   "execution_count": 33,
   "metadata": {},
   "outputs": [],
   "source": [
    "df_data_arrec= df_data_arrec.withColumn(\"Quantidade\",round(df_data_arrec.Quantidade.cast(DoubleType()),2))"
   ]
  },
  {
   "cell_type": "code",
   "execution_count": 34,
   "metadata": {},
   "outputs": [],
   "source": [
    "df_data_arrec= df_data_arrec.withColumn(\"Volume\",round(df_data_arrec.Volume.cast(DoubleType()),2))"
   ]
  },
  {
   "cell_type": "code",
   "execution_count": 35,
   "metadata": {},
   "outputs": [
    {
     "name": "stdout",
     "output_type": "stream",
     "text": [
      "root\n",
      " |-- mes_ano: string (nullable = true)\n",
      " |-- ID: integer (nullable = true)\n",
      " |-- UF: string (nullable = true)\n",
      " |-- Esfera: string (nullable = true)\n",
      " |-- Canal: string (nullable = true)\n",
      " |-- Quantidade: double (nullable = true)\n",
      " |-- Volume: double (nullable = true)\n",
      " |-- mes: string (nullable = true)\n",
      " |-- ano: string (nullable = true)\n",
      " |-- Periodo: date (nullable = true)\n",
      "\n"
     ]
    }
   ],
   "source": [
    "df_data_arrec.printSchema()"
   ]
  },
  {
   "cell_type": "code",
   "execution_count": 36,
   "metadata": {},
   "outputs": [],
   "source": [
    "#Agrupando dados por ID\n",
    "df_data_arrec.createOrReplaceTempView('dados_arrec') "
   ]
  },
  {
   "cell_type": "code",
   "execution_count": 37,
   "metadata": {},
   "outputs": [
    {
     "name": "stdout",
     "output_type": "stream",
     "text": [
      "+----------+\n",
      "|  col_name|\n",
      "+----------+\n",
      "|   mes_ano|\n",
      "|        ID|\n",
      "|        UF|\n",
      "|    Esfera|\n",
      "|     Canal|\n",
      "|Quantidade|\n",
      "|    Volume|\n",
      "|       mes|\n",
      "|       ano|\n",
      "|   Periodo|\n",
      "+----------+\n",
      "\n"
     ]
    }
   ],
   "source": [
    "spark_session_arrec.sql(\"SHOW COLUMNS FROM dados_arrec\").show()"
   ]
  },
  {
   "cell_type": "code",
   "execution_count": 38,
   "metadata": {},
   "outputs": [
    {
     "name": "stdout",
     "output_type": "stream",
     "text": [
      "+-------+---------+---+-------+-----+----------+------+---+----+----------+\n",
      "|mes_ano|       ID| UF| Esfera|Canal|Quantidade|Volume|mes| ano|   Periodo|\n",
      "+-------+---------+---+-------+-----+----------+------+---+----+----------+\n",
      "|07/2019|416383829| BR|FEDERAL|Gefin|       2.0|  null| 07|2019|2019-01-07|\n",
      "|07/2019|416383829| BR|FEDERAL|Caixa|    306.48|  null| 07|2019|2019-01-07|\n",
      "|07/2019|416383829| BR|FEDERAL|  TAA|    189.04|  null| 07|2019|2019-01-07|\n",
      "|07/2019|416383829| BR|FEDERAL|  TAA|    114.25|  null| 07|2019|2019-01-07|\n",
      "|07/2019|416383829| BR|FEDERAL|  TAA|      71.0|  null| 07|2019|2019-01-07|\n",
      "+-------+---------+---+-------+-----+----------+------+---+----+----------+\n",
      "\n"
     ]
    }
   ],
   "source": [
    "spark_session_arrec.sql(\"SELECT * FROM dados_arrec LIMIT 5\").show()"
   ]
  },
  {
   "cell_type": "code",
   "execution_count": 39,
   "metadata": {},
   "outputs": [
    {
     "name": "stdout",
     "output_type": "stream",
     "text": [
      "+----------+---------+-------+\n",
      "|  col_name|data_type|comment|\n",
      "+----------+---------+-------+\n",
      "|   mes_ano|   string|   null|\n",
      "|        ID|      int|   null|\n",
      "|        UF|   string|   null|\n",
      "|    Esfera|   string|   null|\n",
      "|     Canal|   string|   null|\n",
      "|Quantidade|   double|   null|\n",
      "|    Volume|   double|   null|\n",
      "|       mes|   string|   null|\n",
      "|       ano|   string|   null|\n",
      "|   Periodo|     date|   null|\n",
      "+----------+---------+-------+\n",
      "\n"
     ]
    }
   ],
   "source": [
    "spark_session_arrec.sql(\"DESCRIBE dados_arrec\").show()"
   ]
  },
  {
   "cell_type": "code",
   "execution_count": 40,
   "metadata": {},
   "outputs": [
    {
     "name": "stdout",
     "output_type": "stream",
     "text": [
      "+------------+\n",
      "|min(periodo)|\n",
      "+------------+\n",
      "|  2019-01-07|\n",
      "+------------+\n",
      "\n"
     ]
    }
   ],
   "source": [
    "#Período de início dos registros: jul/2019\n",
    "spark_session_arrec.sql(\"SELECT MIN(periodo) FROM dados_arrec\").show()"
   ]
  },
  {
   "cell_type": "code",
   "execution_count": 41,
   "metadata": {},
   "outputs": [
    {
     "name": "stdout",
     "output_type": "stream",
     "text": [
      "+------------+\n",
      "|max(periodo)|\n",
      "+------------+\n",
      "|  2023-01-05|\n",
      "+------------+\n",
      "\n"
     ]
    }
   ],
   "source": [
    "#Período final dos registro: mai/2023 \n",
    "spark_session_arrec.sql(\"SELECT MAX(periodo) FROM dados_arrec\").show()"
   ]
  },
  {
   "cell_type": "code",
   "execution_count": 42,
   "metadata": {},
   "outputs": [
    {
     "name": "stdout",
     "output_type": "stream",
     "text": [
      "+---------+---+--------+------------------+--------------+----+\n",
      "|       ID| UF|  Esfera|Soma_de_quantidade|Soma_de_volume| Ano|\n",
      "+---------+---+--------+------------------+--------------+----+\n",
      "|501365928| PB|ESTADUAL| 224262.8099999999|     7294630.0|2022|\n",
      "|501365928| PB|ESTADUAL| 219359.8099999999|   8.3089492E7|2021|\n",
      "|500688950| RN|ESTADUAL|214686.16999999998|    2.569635E7|2022|\n",
      "|501365928| PB|ESTADUAL|206907.94000000012|   8.9929732E7|2020|\n",
      "|500688950| RN|ESTADUAL|204938.06000000006|   2.3276616E7|2021|\n",
      "|501365928| PB|ESTADUAL|145612.02000000002|     1.41907E7|2019|\n",
      "|503136705| PE|ESTADUAL|139307.64999999994|   9.8087321E7|2020|\n",
      "|500688950| RN|ESTADUAL|         136724.33|   1.3106195E7|2020|\n",
      "|803231607| BA|ESTADUAL|136071.33000000005|   6.9478165E7|2020|\n",
      "|503136705| PE|ESTADUAL|         127700.46|     2909797.0|2021|\n",
      "|803231607| BA|ESTADUAL|123541.00999999998|   1.4064254E7|2021|\n",
      "|105492843| MG|ESTADUAL|121983.00000000006|  2.39741657E8|2022|\n",
      "|803231607| BA|ESTADUAL|         121613.15|    2.744915E7|2022|\n",
      "|105492843| MG|ESTADUAL|117044.02000000008|  1.65638694E8|2020|\n",
      "|503136705| PE|ESTADUAL|113756.28999999995|   1.3818498E7|2022|\n",
      "|106119915| TO|ESTADUAL|110221.26999999999|     1020261.0|2020|\n",
      "|105492843| MG|ESTADUAL|105810.43000000004|   1.3653622E7|2021|\n",
      "|106119915| TO|ESTADUAL|         104244.75|     4487581.0|2022|\n",
      "|500688950| RN|ESTADUAL|         102561.56|   1.0228258E7|2023|\n",
      "|800765558| PI|ESTADUAL|100469.20000000001|     1368805.0|2020|\n",
      "+---------+---+--------+------------------+--------------+----+\n",
      "only showing top 20 rows\n",
      "\n"
     ]
    }
   ],
   "source": [
    "#Agregação por cliente (ID)\n",
    "# optamos por agregar por ano e não por mês/ano para não gerar distorções no cálculo da tarifa posteriormente, pois nem todo\n",
    "#mês os clientes possuem movimento de arrecadação. \n",
    "\n",
    "query=\"\"\"\n",
    "\n",
    "SELECT \n",
    "ID, \n",
    "ANY_VALUE(UF) as UF,\n",
    "ANY_VALUE(Esfera) as Esfera,\n",
    "SUM(Quantidade) AS Soma_de_quantidade, \n",
    "SUM(Volume) AS Soma_de_volume,\n",
    "ano AS Ano\n",
    "FROM dados_arrec\n",
    "GROUP BY ID, ano \n",
    "ORDER BY Soma_de_quantidade DESC\n",
    "\n",
    "\"\"\"\n",
    "spark_session_arrec.sql(query).show()"
   ]
  },
  {
   "cell_type": "code",
   "execution_count": 43,
   "metadata": {},
   "outputs": [],
   "source": [
    "#gravando a query em pySpark DataFrame\n",
    "df_group_id_arrec=spark_session_arrec.sql(query)"
   ]
  },
  {
   "cell_type": "code",
   "execution_count": 44,
   "metadata": {},
   "outputs": [
    {
     "data": {
      "text/plain": [
       "17861"
      ]
     },
     "execution_count": 44,
     "metadata": {},
     "output_type": "execute_result"
    }
   ],
   "source": [
    "df_group_id_arrec.count()"
   ]
  },
  {
   "cell_type": "code",
   "execution_count": 45,
   "metadata": {},
   "outputs": [
    {
     "data": {
      "text/plain": [
       "pyspark.sql.dataframe.DataFrame"
      ]
     },
     "execution_count": 45,
     "metadata": {},
     "output_type": "execute_result"
    }
   ],
   "source": [
    "type(df_group_id_arrec)"
   ]
  },
  {
   "cell_type": "code",
   "execution_count": 46,
   "metadata": {},
   "outputs": [
    {
     "name": "stdout",
     "output_type": "stream",
     "text": [
      "root\n",
      " |-- ID: integer (nullable = true)\n",
      " |-- UF: string (nullable = true)\n",
      " |-- Esfera: string (nullable = true)\n",
      " |-- Soma_de_quantidade: double (nullable = true)\n",
      " |-- Soma_de_volume: double (nullable = true)\n",
      " |-- Ano: string (nullable = true)\n",
      "\n"
     ]
    }
   ],
   "source": [
    "df_group_id_arrec.printSchema()"
   ]
  },
  {
   "cell_type": "code",
   "execution_count": 47,
   "metadata": {},
   "outputs": [],
   "source": [
    "#FAZER AGREGAÇÃO USANDO WINDOW, JANELA DE SOMA_QUANTIDADE E SOMA_VOLUME POR ANO\n",
    "#criando tabela temporária para usar queries SQL\n",
    "df_group_id_arrec.createOrReplaceTempView('dados_group_arrec') "
   ]
  },
  {
   "cell_type": "code",
   "execution_count": 48,
   "metadata": {},
   "outputs": [
    {
     "name": "stdout",
     "output_type": "stream",
     "text": [
      "+-----+---+---------+------------------+--------------+----+----------+\n",
      "|   ID| UF|   Esfera|Soma_de_quantidade|Soma_de_volume| Ano|Sequencial|\n",
      "+-----+---+---------+------------------+--------------+----+----------+\n",
      "| 1198| PR|MUNICIPAL|              1341|         35.00|2022|         1|\n",
      "| 1198| PR|MUNICIPAL|              2573|         70.00|2023|         2|\n",
      "| 1821| PR|MUNICIPAL|              5235|          null|2019|         1|\n",
      "| 1821| PR|MUNICIPAL|             12143|      28178.00|2020|         2|\n",
      "| 1821| PR|MUNICIPAL|             13058|          null|2021|         3|\n",
      "| 1821| PR|MUNICIPAL|              2257|       9000.00|2022|         4|\n",
      "| 1821| PR|MUNICIPAL|               242|          null|2023|         5|\n",
      "| 7219| PR| ESTADUAL|              2569|     216919.00|2021|         1|\n",
      "| 7219| PR| ESTADUAL|             12435|    1582179.00|2022|         2|\n",
      "| 7219| PR| ESTADUAL|              1119|     248557.00|2023|         3|\n",
      "| 7607| PR|MUNICIPAL|              6169|      86780.00|2022|         1|\n",
      "| 7607| PR|MUNICIPAL|              2400|       1529.00|2023|         2|\n",
      "|47893| PR|MUNICIPAL|               539|          null|2019|         1|\n",
      "|47893| PR|MUNICIPAL|               190|       1880.00|2020|         2|\n",
      "|47893| PR|MUNICIPAL|               120|      15353.00|2021|         3|\n",
      "|47893| PR|MUNICIPAL|                83|          null|2022|         4|\n",
      "|47893| PR|MUNICIPAL|                86|        281.00|2023|         5|\n",
      "|50243| PR|MUNICIPAL|              4260|       5636.00|2019|         1|\n",
      "|50243| PR|MUNICIPAL|             10698|          null|2020|         2|\n",
      "|50243| PR|MUNICIPAL|             16153|          null|2021|         3|\n",
      "+-----+---+---------+------------------+--------------+----+----------+\n",
      "only showing top 20 rows\n",
      "\n"
     ]
    }
   ],
   "source": [
    "#fazendo a query com função window sql\n",
    "\n",
    "query=\"\"\"\n",
    "SELECT \n",
    "ID,\n",
    "UF,\n",
    "Esfera,\n",
    "CAST(Soma_de_quantidade AS DECIMAL(15,0)), \n",
    "CAST(Soma_de_volume AS DECIMAL(15,2)),\n",
    "Ano,\n",
    "ROW_NUMBER() OVER (PARTITION BY ID ORDER BY Ano) AS Sequencial\n",
    "FROM dados_group_arrec\n",
    "\n",
    "\"\"\"\n",
    "spark_session_arrec.sql(query).show()"
   ]
  },
  {
   "cell_type": "code",
   "execution_count": 49,
   "metadata": {},
   "outputs": [],
   "source": [
    "df_group_id_janelas_arrec=spark_session_arrec.sql(query)"
   ]
  },
  {
   "cell_type": "code",
   "execution_count": 50,
   "metadata": {},
   "outputs": [
    {
     "data": {
      "text/plain": [
       "17861"
      ]
     },
     "execution_count": 50,
     "metadata": {},
     "output_type": "execute_result"
    }
   ],
   "source": [
    "df_group_id_janelas_arrec.count()"
   ]
  },
  {
   "cell_type": "code",
   "execution_count": 52,
   "metadata": {},
   "outputs": [
    {
     "name": "stdout",
     "output_type": "stream",
     "text": [
      "+---------+-----+-----+-----+-----+----+\n",
      "|       ID| 2019| 2020| 2021| 2022|2023|\n",
      "+---------+-----+-----+-----+-----+----+\n",
      "|937250328| null| null| null|  483|null|\n",
      "|936565581| 1427| 3136| 3138| 3378|1516|\n",
      "|935826298|  239|  517|  676|  851| 309|\n",
      "|935791263|  678| 1309| 1994| 3093|1443|\n",
      "|935402733| 7061|14228|14705|18889|8436|\n",
      "|935298611|   99|  843| 1311| 1343| 304|\n",
      "|935260072| 4555|10887|12724|14393|5873|\n",
      "|934794039| 6733|10731|11259|14140|5710|\n",
      "|934402481| 1183| 5639| 8241| 9136|6996|\n",
      "|933975057| null| null|   10|   53|  27|\n",
      "|933887049|  172|  489| 1110| 1797| 161|\n",
      "|933241298| 6624|14758|17283|21272|7650|\n",
      "|932213580| null| null| null|   13| 172|\n",
      "|931866978| 2127| 3626| 5002| 5612|2326|\n",
      "|931809113| null| null| null|    1|null|\n",
      "|931808991| 2328| 3689| 4122| 4642|1495|\n",
      "|930402979| 7185|10764|14058|15476|5415|\n",
      "|930367871|15403|28251|29126|27725|9315|\n",
      "|930281912| 1657| 3312| 4960| 6773|2793|\n",
      "|929019479|   22|   68|   95|   73|  27|\n",
      "+---------+-----+-----+-----+-----+----+\n",
      "only showing top 20 rows\n",
      "\n"
     ]
    }
   ],
   "source": [
    "#Agregação por cliente (ID) transformando anos em colunas (Pivot)\n",
    "# Quantidade por ano\n",
    "query=\"\"\"\n",
    "SELECT * FROM(\n",
    "SELECT ID, CAST(SUM(Quantidade) AS DECIMAL(15,0)) AS q, Ano\n",
    "FROM dados_arrec\n",
    "GROUP BY ID, Ano\n",
    ")\n",
    "PIVOT(\n",
    "    SUM(q)\n",
    "    FOR Ano\n",
    "    in ('2019','2020','2021','2022','2023')\n",
    ")\n",
    "\n",
    "ORDER BY ID DESC\n",
    "\n",
    "\"\"\"\n",
    "spark_session_arrec.sql(query).show()"
   ]
  },
  {
   "cell_type": "code",
   "execution_count": 53,
   "metadata": {},
   "outputs": [],
   "source": [
    "#Salvando a query em pySpark Dataframe\n",
    "df_group_id_anos_arrec=spark_session_arrec.sql(query)"
   ]
  },
  {
   "cell_type": "code",
   "execution_count": 54,
   "metadata": {},
   "outputs": [
    {
     "data": {
      "text/plain": [
       "4160"
      ]
     },
     "execution_count": 54,
     "metadata": {},
     "output_type": "execute_result"
    }
   ],
   "source": [
    "df_group_id_anos_arrec.count()"
   ]
  },
  {
   "cell_type": "markdown",
   "metadata": {},
   "source": [
    "### DATASET DF_SPARK_MC"
   ]
  },
  {
   "cell_type": "code",
   "execution_count": 136,
   "metadata": {},
   "outputs": [],
   "source": [
    "# Cria uma tabela temporária a partir do dataframe\n",
    "# As tabelas temporárias são úteis quando você deseja que o conjunto de resultados fique visível \n",
    "# para todas as outras sessões Spark\n",
    "df_spark_mc.createOrReplaceTempView('dados_mc') "
   ]
  },
  {
   "cell_type": "code",
   "execution_count": 137,
   "metadata": {},
   "outputs": [],
   "source": [
    "# Executa uma consulta SQL\n",
    "df_temp_mc = spark_session_mc.sql(\"select * from dados_mc\");"
   ]
  },
  {
   "cell_type": "code",
   "execution_count": 138,
   "metadata": {},
   "outputs": [
    {
     "data": {
      "text/plain": [
       "pyspark.sql.dataframe.DataFrame"
      ]
     },
     "execution_count": 138,
     "metadata": {},
     "output_type": "execute_result"
    }
   ],
   "source": [
    "type(df_temp_mc)"
   ]
  },
  {
   "cell_type": "code",
   "execution_count": 139,
   "metadata": {},
   "outputs": [
    {
     "name": "stdout",
     "output_type": "stream",
     "text": [
      "root\n",
      " |-- PERIODO: string (nullable = true)\n",
      " |-- ANO: integer (nullable = true)\n",
      " |-- MES: integer (nullable = true)\n",
      " |-- ID: integer (nullable = true)\n",
      " |-- MARGEM: string (nullable = true)\n",
      " |-- TARIFA: string (nullable = true)\n",
      " |-- COD_TIPO_CARTEIRA_RELAC: integer (nullable = true)\n",
      " |-- SG_UF_MUN_END_CLI: string (nullable = true)\n",
      "\n"
     ]
    }
   ],
   "source": [
    "df_temp_mc.printSchema()"
   ]
  },
  {
   "cell_type": "code",
   "execution_count": 141,
   "metadata": {
    "scrolled": true
   },
   "outputs": [
    {
     "name": "stdout",
     "output_type": "stream",
     "text": [
      "+----------+----+---+---------+-------+-------+-----------------------+-----------------+\n",
      "|   PERIODO| ANO|MES|       ID| MARGEM| TARIFA|COD_TIPO_CARTEIRA_RELAC|SG_UF_MUN_END_CLI|\n",
      "+----------+----+---+---------+-------+-------+-----------------------+-----------------+\n",
      "|01/01/2022|2022|  1|200084156|  618,5| 638,73|                    406|               SP|\n",
      "|01/02/2022|2022|  2|200084156| 843,65| 854,46|                    406|               SP|\n",
      "|01/03/2022|2022|  3|200084156|5941,75|6254,47|                    406|               SP|\n",
      "|01/04/2022|2022|  4|200084156|2695,41|2843,33|                    406|               SP|\n",
      "|01/05/2022|2022|  5|200084156|2328,03|2461,86|                    406|               SP|\n",
      "|01/06/2022|2022|  6|200084156|2483,55| 2623,3|                    406|               SP|\n",
      "|01/07/2022|2022|  7|200084156|2446,43|2524,35|                    406|               SP|\n",
      "|01/08/2022|2022|  8|200084156| 2257,1|2375,84|                    406|               SP|\n",
      "|01/09/2022|2022|  9|200084156|2311,48|2405,84|                    406|               SP|\n",
      "|01/10/2022|2022| 10|200084156|2346,01|2450,81|                    406|               SP|\n",
      "|01/11/2022|2022| 11|200084156|2333,38|2483,78|                    406|               SP|\n",
      "|01/12/2022|2022| 12|200084156|2758,95|2895,56|                    406|               SP|\n",
      "|01/01/2022|2022|  1|200152593| 446,64| 483,98|                    406|               SP|\n",
      "|01/02/2022|2022|  2|200152593| 275,68| 296,19|                    406|               SP|\n",
      "|01/03/2022|2022|  3|200152593| 604,44| 648,96|                    406|               SP|\n",
      "|01/04/2022|2022|  4|200152593|  585,9|  628,9|                    406|               SP|\n",
      "|01/05/2022|2022|  5|200152593|1968,58| 2165,5|                    406|               SP|\n",
      "|01/06/2022|2022|  6|200152593|5700,13| 6282,9|                    406|               SP|\n",
      "|01/07/2022|2022|  7|200152593|4533,49| 5062,5|                    406|               SP|\n",
      "|01/08/2022|2022|  8|200152593|4923,86| 5507,7|                    406|               SP|\n",
      "+----------+----+---+---------+-------+-------+-----------------------+-----------------+\n",
      "only showing top 20 rows\n",
      "\n"
     ]
    }
   ],
   "source": [
    "df_temp_mc.show()"
   ]
  },
  {
   "cell_type": "code",
   "execution_count": 142,
   "metadata": {},
   "outputs": [
    {
     "name": "stdout",
     "output_type": "stream",
     "text": [
      "+----------+\n",
      "|   PERIODO|\n",
      "+----------+\n",
      "|01/01/2022|\n",
      "|01/02/2022|\n",
      "|01/03/2022|\n",
      "|01/04/2022|\n",
      "|01/05/2022|\n",
      "|01/06/2022|\n",
      "|01/07/2022|\n",
      "|01/08/2022|\n",
      "|01/09/2022|\n",
      "|01/10/2022|\n",
      "|01/11/2022|\n",
      "|01/12/2022|\n",
      "|01/01/2022|\n",
      "|01/02/2022|\n",
      "|01/03/2022|\n",
      "|01/04/2022|\n",
      "|01/05/2022|\n",
      "|01/06/2022|\n",
      "|01/07/2022|\n",
      "|01/08/2022|\n",
      "+----------+\n",
      "only showing top 20 rows\n",
      "\n"
     ]
    }
   ],
   "source": [
    "df_temp_mc[['PERIODO']].show()"
   ]
  },
  {
   "cell_type": "code",
   "execution_count": 143,
   "metadata": {},
   "outputs": [
    {
     "name": "stdout",
     "output_type": "stream",
     "text": [
      "+--------+\n",
      "|MES_2DIG|\n",
      "+--------+\n",
      "|      01|\n",
      "|      02|\n",
      "|      03|\n",
      "|      04|\n",
      "|      05|\n",
      "|      06|\n",
      "|      07|\n",
      "|      08|\n",
      "|      09|\n",
      "|      10|\n",
      "|      11|\n",
      "|      12|\n",
      "|      01|\n",
      "|      02|\n",
      "|      03|\n",
      "|      04|\n",
      "|      05|\n",
      "|      06|\n",
      "|      07|\n",
      "|      08|\n",
      "+--------+\n",
      "only showing top 20 rows\n",
      "\n"
     ]
    }
   ],
   "source": [
    "df_mes_mc = df_temp_mc.withColumn(\"MES_2DIG\",\n",
    "                                  when((col(\"MES\")<10),concat(lit('0'),df_temp_mc[\"MES\"]))\n",
    "                                 .otherwise(df_temp_mc[\"MES\"]))\n",
    "df_mes_mc[[\"MES_2DIG\"]].show()"
   ]
  },
  {
   "cell_type": "code",
   "execution_count": 144,
   "metadata": {},
   "outputs": [],
   "source": [
    "df_data_mc = df_mes_mc.withColumn(\"PERIODO\", concat(lit('01-'),df_mes_mc[\"MES_2DIG\"], lit('-'),df_mes_mc[\"ANO\"]))\n",
    "df_data_mc = df_data_mc.withColumn(\"PERIODO\",to_date(col(\"PERIODO\"),\"MM-dd-yyyy\"))"
   ]
  },
  {
   "cell_type": "code",
   "execution_count": 145,
   "metadata": {},
   "outputs": [
    {
     "name": "stdout",
     "output_type": "stream",
     "text": [
      "root\n",
      " |-- PERIODO: date (nullable = true)\n",
      " |-- ANO: integer (nullable = true)\n",
      " |-- MES: integer (nullable = true)\n",
      " |-- ID: integer (nullable = true)\n",
      " |-- MARGEM: string (nullable = true)\n",
      " |-- TARIFA: string (nullable = true)\n",
      " |-- COD_TIPO_CARTEIRA_RELAC: integer (nullable = true)\n",
      " |-- SG_UF_MUN_END_CLI: string (nullable = true)\n",
      " |-- MES_2DIG: string (nullable = true)\n",
      "\n"
     ]
    }
   ],
   "source": [
    "df_data_mc.printSchema()"
   ]
  },
  {
   "cell_type": "code",
   "execution_count": 146,
   "metadata": {},
   "outputs": [],
   "source": [
    "df_data_mc = df_data_mc.drop('MES_2DIG')"
   ]
  },
  {
   "cell_type": "code",
   "execution_count": 147,
   "metadata": {},
   "outputs": [
    {
     "name": "stdout",
     "output_type": "stream",
     "text": [
      "root\n",
      " |-- PERIODO: date (nullable = true)\n",
      " |-- ANO: integer (nullable = true)\n",
      " |-- MES: integer (nullable = true)\n",
      " |-- ID: integer (nullable = true)\n",
      " |-- MARGEM: string (nullable = true)\n",
      " |-- TARIFA: string (nullable = true)\n",
      " |-- COD_TIPO_CARTEIRA_RELAC: integer (nullable = true)\n",
      " |-- SG_UF_MUN_END_CLI: string (nullable = true)\n",
      "\n"
     ]
    }
   ],
   "source": [
    "df_data_mc.printSchema()"
   ]
  },
  {
   "cell_type": "code",
   "execution_count": 148,
   "metadata": {},
   "outputs": [
    {
     "name": "stdout",
     "output_type": "stream",
     "text": [
      "+----------+---+----+\n",
      "|   PERIODO|MES| ANO|\n",
      "+----------+---+----+\n",
      "|2022-01-01|  1|2022|\n",
      "|2022-01-02|  2|2022|\n",
      "|2022-01-03|  3|2022|\n",
      "|2022-01-04|  4|2022|\n",
      "|2022-01-05|  5|2022|\n",
      "|2022-01-06|  6|2022|\n",
      "|2022-01-07|  7|2022|\n",
      "|2022-01-08|  8|2022|\n",
      "|2022-01-09|  9|2022|\n",
      "|2022-01-10| 10|2022|\n",
      "|2022-01-11| 11|2022|\n",
      "|2022-01-12| 12|2022|\n",
      "|2022-01-01|  1|2022|\n",
      "|2022-01-02|  2|2022|\n",
      "|2022-01-03|  3|2022|\n",
      "|2022-01-04|  4|2022|\n",
      "|2022-01-05|  5|2022|\n",
      "|2022-01-06|  6|2022|\n",
      "|2022-01-07|  7|2022|\n",
      "|2022-01-08|  8|2022|\n",
      "+----------+---+----+\n",
      "only showing top 20 rows\n",
      "\n"
     ]
    }
   ],
   "source": [
    "# Visualiza os dados\n",
    "df_data_mc[['PERIODO', 'MES', 'ANO']].show()"
   ]
  },
  {
   "cell_type": "code",
   "execution_count": 149,
   "metadata": {},
   "outputs": [],
   "source": [
    "#Agrupando dados por ID\n",
    "df_data_mc.createOrReplaceTempView('dados_mc') \n"
   ]
  },
  {
   "cell_type": "code",
   "execution_count": 150,
   "metadata": {},
   "outputs": [
    {
     "name": "stdout",
     "output_type": "stream",
     "text": [
      "+--------------------+---------+-------+\n",
      "|            col_name|data_type|comment|\n",
      "+--------------------+---------+-------+\n",
      "|             PERIODO|     date|   null|\n",
      "|                 ANO|      int|   null|\n",
      "|                 MES|      int|   null|\n",
      "|                  ID|      int|   null|\n",
      "|              MARGEM|   string|   null|\n",
      "|              TARIFA|   string|   null|\n",
      "|COD_TIPO_CARTEIRA...|      int|   null|\n",
      "|   SG_UF_MUN_END_CLI|   string|   null|\n",
      "+--------------------+---------+-------+\n",
      "\n"
     ]
    }
   ],
   "source": [
    "spark_session_mc.sql(\"DESCRIBE dados_mc\").show()"
   ]
  },
  {
   "cell_type": "code",
   "execution_count": 151,
   "metadata": {},
   "outputs": [
    {
     "name": "stdout",
     "output_type": "stream",
     "text": [
      "+------------+\n",
      "|min(PERIODO)|\n",
      "+------------+\n",
      "|  2019-01-01|\n",
      "+------------+\n",
      "\n"
     ]
    }
   ],
   "source": [
    "spark_session_mc.sql(\"SELECT MIN(PERIODO) FROM dados_mc\").show()"
   ]
  },
  {
   "cell_type": "code",
   "execution_count": 152,
   "metadata": {},
   "outputs": [
    {
     "name": "stdout",
     "output_type": "stream",
     "text": [
      "+------------+\n",
      "|max(PERIODO)|\n",
      "+------------+\n",
      "|  2023-01-05|\n",
      "+------------+\n",
      "\n"
     ]
    }
   ],
   "source": [
    "spark_session_mc.sql(\"SELECT MAX(PERIODO) FROM dados_mc\").show()"
   ]
  },
  {
   "cell_type": "code",
   "execution_count": 153,
   "metadata": {},
   "outputs": [
    {
     "name": "stdout",
     "output_type": "stream",
     "text": [
      "+------------+\n",
      "|min(PERIODO)|\n",
      "+------------+\n",
      "|  2019-01-07|\n",
      "+------------+\n",
      "\n"
     ]
    }
   ],
   "source": [
    "spark_session_mc.sql(\"SELECT MIN(PERIODO) FROM dados_mc WHERE PERIODO >= '2019-01-07'\").show()"
   ]
  },
  {
   "cell_type": "code",
   "execution_count": 154,
   "metadata": {},
   "outputs": [],
   "source": [
    "df_1S2019 = spark_session_mc.sql(\"SELECT * FROM dados_mc WHERE PERIODO < '2019-01-07'\")"
   ]
  },
  {
   "cell_type": "code",
   "execution_count": 155,
   "metadata": {},
   "outputs": [
    {
     "data": {
      "text/plain": [
       "26197"
      ]
     },
     "execution_count": 155,
     "metadata": {},
     "output_type": "execute_result"
    }
   ],
   "source": [
    "df_1S2019.count()"
   ]
  },
  {
   "cell_type": "code",
   "execution_count": 156,
   "metadata": {},
   "outputs": [
    {
     "name": "stdout",
     "output_type": "stream",
     "text": [
      "+---------+\n",
      "|ID       |\n",
      "+---------+\n",
      "|200250241|\n",
      "|200155586|\n",
      "|501388607|\n",
      "|204396945|\n",
      "|205800274|\n",
      "|914200901|\n",
      "|901399041|\n",
      "|201381021|\n",
      "|104460857|\n",
      "|104868416|\n",
      "|104141805|\n",
      "|419387   |\n",
      "|105068133|\n",
      "|600148970|\n",
      "|602700564|\n",
      "|200900570|\n",
      "|250022   |\n",
      "|103784086|\n",
      "|200680618|\n",
      "|556541   |\n",
      "+---------+\n",
      "only showing top 20 rows\n",
      "\n"
     ]
    },
    {
     "data": {
      "text/plain": [
       "3255"
      ]
     },
     "execution_count": 156,
     "metadata": {},
     "output_type": "execute_result"
    }
   ],
   "source": [
    "#quantidade de clientes com dados a partir do 1S2019\n",
    "dropDisDF = df_1S2019.dropDuplicates([\"ID\"]).select(\"ID\")\n",
    "dropDisDF.show(truncate=False)\n",
    "\n",
    "df_1S2019.dropDuplicates([\"ID\"]).select(\"ID\").count()"
   ]
  },
  {
   "cell_type": "code",
   "execution_count": 157,
   "metadata": {},
   "outputs": [],
   "source": [
    "df_data_mc2 = spark_session_mc.sql(\"SELECT * FROM dados_mc WHERE PERIODO >= '2019-01-07'\")"
   ]
  },
  {
   "cell_type": "code",
   "execution_count": 158,
   "metadata": {},
   "outputs": [],
   "source": [
    "#Atualizando tabela temporária dados_mc com nova data de início dos registros a partir de jul/2023 \n",
    "#para igualar com os dados do dataset_arrec\n",
    "\n",
    "df_data_mc2.createOrReplaceTempView('dados_mc') "
   ]
  },
  {
   "cell_type": "code",
   "execution_count": 159,
   "metadata": {},
   "outputs": [
    {
     "name": "stdout",
     "output_type": "stream",
     "text": [
      "+------------+\n",
      "|min(PERIODO)|\n",
      "+------------+\n",
      "|  2019-01-07|\n",
      "+------------+\n",
      "\n"
     ]
    }
   ],
   "source": [
    "spark_session_mc.sql(\"SELECT MIN(PERIODO) FROM dados_mc\").show()"
   ]
  },
  {
   "cell_type": "code",
   "execution_count": 160,
   "metadata": {},
   "outputs": [
    {
     "name": "stdout",
     "output_type": "stream",
     "text": [
      "+--------------------+---------+-------+\n",
      "|            col_name|data_type|comment|\n",
      "+--------------------+---------+-------+\n",
      "|             PERIODO|     date|   null|\n",
      "|                 ANO|      int|   null|\n",
      "|                 MES|      int|   null|\n",
      "|                  ID|      int|   null|\n",
      "|              MARGEM|   string|   null|\n",
      "|              TARIFA|   string|   null|\n",
      "|COD_TIPO_CARTEIRA...|      int|   null|\n",
      "|   SG_UF_MUN_END_CLI|   string|   null|\n",
      "+--------------------+---------+-------+\n",
      "\n"
     ]
    }
   ],
   "source": [
    "spark_session_mc.sql(\"DESCRIBE dados_mc\").show()"
   ]
  },
  {
   "cell_type": "code",
   "execution_count": 161,
   "metadata": {},
   "outputs": [
    {
     "data": {
      "text/plain": [
       "['PERIODO',\n",
       " 'ANO',\n",
       " 'MES',\n",
       " 'ID',\n",
       " 'MARGEM',\n",
       " 'TARIFA',\n",
       " 'COD_TIPO_CARTEIRA_RELAC',\n",
       " 'SG_UF_MUN_END_CLI']"
      ]
     },
     "execution_count": 161,
     "metadata": {},
     "output_type": "execute_result"
    }
   ],
   "source": [
    "df_data_mc2.columns"
   ]
  },
  {
   "cell_type": "code",
   "execution_count": 162,
   "metadata": {},
   "outputs": [
    {
     "name": "stdout",
     "output_type": "stream",
     "text": [
      "+---------+-----------------+---+--------------+---------------+----+\n",
      "|       ID|Cod_Tipo_Cart_Rel| UF|Soma_de_margem|Soma_de_tarifas| Ano|\n",
      "+---------+-----------------+---+--------------+---------------+----+\n",
      "|509646522|              405| SP|          null|     3056576.00|2021|\n",
      "|106229821|              403| MT|          null|     2769415.00|2019|\n",
      "|200964047|              400| SP|     140560.00|     1752983.00|2020|\n",
      "|104372038|              403| MA|          null|     1520186.00|2020|\n",
      "|106229821|              403| MT|          null|     1398942.00|2020|\n",
      "|509646522|              405| SP|          null|     1120136.00|2022|\n",
      "|200964047|              400| SP|          null|      863308.00|2023|\n",
      "|907132352|              400| SP|          null|      723595.00|2023|\n",
      "|509646522|              405| SP|          null|      674168.00|2019|\n",
      "|500019475|              403| CE|          null|      627668.00|2019|\n",
      "|501466442|              403| PE|          null|      620961.00|2022|\n",
      "|500688950|              405| RN|          null|      609748.00|2022|\n",
      "|907132352|              400| SP|          null|      492982.00|2020|\n",
      "|104484020|              403| RN|     171431.00|      430644.00|2020|\n",
      "|104785817|              405| RR|          null|      419518.00|2022|\n",
      "|104785817|              405| RR|          null|      405577.00|2021|\n",
      "|501466442|              403| PE|     300531.00|      397857.00|2021|\n",
      "|104839035|              405| MA|          null|      392958.00|2019|\n",
      "|600390519|              406| MG|          null|      382358.00|2021|\n",
      "|907132352|              400| SP|          null|      361721.00|2022|\n",
      "+---------+-----------------+---+--------------+---------------+----+\n",
      "only showing top 20 rows\n",
      "\n"
     ]
    }
   ],
   "source": [
    "#Agregação por cliente (ID)\n",
    "# Optamos por agrupar por ano e não por período (mês/ano) devido nem todo mês os clientes possuírem guias arrecadadas, \n",
    "#o que resultaria em distroções no cálculo de tarifa a ser feito posteriormente.\n",
    "query=\"\"\"\n",
    "SELECT \n",
    "ID,\n",
    "ANY_VALUE(COD_TIPO_CARTEIRA_RELAC) AS Cod_Tipo_Cart_Rel,\n",
    "ANY_VALUE(SG_UF_MUN_END_CLI) AS UF,\n",
    "CAST(SUM(MARGEM) AS DECIMAL(15,2)) AS Soma_de_margem, \n",
    "CAST(SUM(TARIFA) AS DECIMAL(15,2)) AS Soma_de_tarifas,\n",
    "ANO as Ano\n",
    "FROM dados_mc\n",
    "GROUP BY ID, ANO\n",
    "ORDER BY SUM(TARIFA) DESC\n",
    "\"\"\"\n",
    "spark_session_mc.sql(query).show()"
   ]
  },
  {
   "cell_type": "code",
   "execution_count": 163,
   "metadata": {},
   "outputs": [],
   "source": [
    "#Gravando query em pySpark DataFrame\n",
    "df_group_id_mc = spark_session_mc.sql(query)"
   ]
  },
  {
   "cell_type": "code",
   "execution_count": 164,
   "metadata": {},
   "outputs": [
    {
     "data": {
      "text/plain": [
       "19481"
      ]
     },
     "execution_count": 164,
     "metadata": {},
     "output_type": "execute_result"
    }
   ],
   "source": [
    "#Verificando quantidade de registros do dataset_mc agrupado por cliente (ID)\n",
    "df_group_id_mc.count()"
   ]
  },
  {
   "cell_type": "code",
   "execution_count": 165,
   "metadata": {},
   "outputs": [
    {
     "name": "stdout",
     "output_type": "stream",
     "text": [
      "+-----+-----------------+---+---------------+--------------+----+----------+\n",
      "|   ID|Cod_Tipo_Cart_Rel| UF|Soma_de_tarifas|Soma_de_margem| Ano|Sequencial|\n",
      "+-----+-----------------+---+---------------+--------------+----+----------+\n",
      "| 1198|              407| PR|          21.00|          null|2022|         1|\n",
      "| 1198|              407| PR|          42.00|          null|2023|         2|\n",
      "| 1821|              406| PR|           null|          null|2019|         1|\n",
      "| 1821|              406| PR|           null|          null|2020|         2|\n",
      "| 1821|              406| PR|           null|          null|2021|         3|\n",
      "| 1821|              406| PR|           null|          null|2022|         4|\n",
      "| 1821|              406| PR|         455.00|          null|2023|         5|\n",
      "| 7219|              405| PR|           0.00|          null|2021|         1|\n",
      "| 7219|              405| PR|           null|          null|2022|         2|\n",
      "| 7219|              405| PR|           null|          null|2023|         3|\n",
      "| 7607|              406| PR|        4871.00|          null|2022|         1|\n",
      "| 7607|              406| PR|           null|          null|2023|         2|\n",
      "| 7918|              405| PR|           0.00|          null|2019|         1|\n",
      "| 7918|              405| PR|           0.00|          null|2020|         2|\n",
      "| 7918|              405| PR|           0.00|          null|2021|         3|\n",
      "| 7918|              405| PR|           0.00|          null|2022|         4|\n",
      "| 7918|              405| PR|           0.00|          null|2023|         5|\n",
      "|47893|              406| PR|           null|          null|2019|         1|\n",
      "|47893|              406| PR|         116.00|          null|2020|         2|\n",
      "|47893|              406| PR|         127.00|         46.00|2021|         3|\n",
      "|47893|              406| PR|          46.00|          null|2022|         4|\n",
      "|47893|              406| PR|          38.00|          null|2023|         5|\n",
      "|50243|              406| PR|           null|          null|2019|         1|\n",
      "|50243|              406| PR|         972.00|          null|2020|         2|\n",
      "|50243|              406| PR|           null|          null|2021|         3|\n",
      "|50243|              406| PR|           null|          null|2022|         4|\n",
      "|50243|              406| PR|           null|          null|2023|         5|\n",
      "|68019|              407| PR|        1554.00|          null|2019|         1|\n",
      "|68019|              407| PR|        2576.00|          null|2020|         2|\n",
      "|68019|              407| PR|        3212.00|          null|2021|         3|\n",
      "|68019|              407| PR|        4673.00|          null|2022|         4|\n",
      "|68019|              407| PR|        3983.00|       2101.00|2023|         5|\n",
      "|75719|              406| PR|           null|          null|2019|         1|\n",
      "|75719|              406| PR|       13038.00|          null|2020|         2|\n",
      "|75719|              406| PR|           null|          null|2021|         3|\n",
      "|75719|              406| PR|           null|          null|2022|         4|\n",
      "|75719|              406| PR|           null|          null|2023|         5|\n",
      "|80803|              406| PR|        6104.00|         31.00|2021|         1|\n",
      "|80803|              406| PR|        5725.00|         42.00|2022|         2|\n",
      "|80803|              406| PR|           0.00|          null|2023|         3|\n",
      "|81268|              407| PR|           null|          null|2019|         1|\n",
      "|81268|              407| PR|           null|          null|2020|         2|\n",
      "|81268|              407| PR|         587.00|          null|2021|         3|\n",
      "|81268|              407| PR|           null|        426.00|2022|         4|\n",
      "|81268|              407| PR|           null|          null|2023|         5|\n",
      "|81272|              407| PR|         139.00|          null|2019|         1|\n",
      "|81272|              407| PR|         208.00|          null|2020|         2|\n",
      "|81272|              407| PR|           null|          null|2021|         3|\n",
      "|81272|              407| PR|          69.00|          null|2022|         4|\n",
      "|81272|              407| PR|           null|          null|2023|         5|\n",
      "|81276|              407| PR|           null|          null|2019|         1|\n",
      "|81276|              407| PR|        3740.00|          null|2020|         2|\n",
      "|81276|              407| PR|        2804.00|          null|2021|         3|\n",
      "|81276|              407| PR|        1321.00|          null|2022|         4|\n",
      "|81276|              407| PR|        1309.00|          null|2023|         5|\n",
      "|84577|              407| PR|           null|          null|2019|         1|\n",
      "|84577|              407| PR|         281.00|        653.00|2020|         2|\n",
      "|84577|              407| PR|        3240.00|          null|2021|         3|\n",
      "|84577|              407| PR|        1407.00|        389.00|2022|         4|\n",
      "|84577|              407| PR|         609.00|          null|2023|         5|\n",
      "|84584|              407| PR|           null|          null|2019|         1|\n",
      "|84584|              407| PR|         381.00|          null|2020|         2|\n",
      "|84584|              407| PR|        2761.00|          null|2021|         3|\n",
      "|84584|              407| PR|        1611.00|          null|2022|         4|\n",
      "|84584|              407| PR|           null|          null|2023|         5|\n",
      "|84587|              407| PR|          37.00|         56.00|2022|         1|\n",
      "|84587|              407| PR|           null|          null|2023|         2|\n",
      "|88525|              406| PR|        1085.00|          null|2019|         1|\n",
      "|88525|              406| PR|        7710.00|          null|2020|         2|\n",
      "|88525|              406| PR|        3637.00|          null|2021|         3|\n",
      "+-----+-----------------+---+---------------+--------------+----+----------+\n",
      "only showing top 70 rows\n",
      "\n"
     ]
    }
   ],
   "source": [
    "#FAZER AGREGAÇÃO USANDO WINDOW, JANELA DE SOMA_QUANTIDADE E SOMA_VOLUME POR ANO\n",
    "#criando tabela temporária para usar queries SQL\n",
    "df_group_id_mc.createOrReplaceTempView('dados_group_mc') \n",
    "\n",
    "#fazendo a query com função window sql\n",
    "\n",
    "query=\"\"\"\n",
    "SELECT \n",
    "ID,\n",
    "Cod_Tipo_Cart_Rel,\n",
    "UF,\n",
    "CAST(Soma_de_tarifas AS DECIMAL(15,2)), \n",
    "CAST(Soma_de_margem AS DECIMAL(15,2)),\n",
    "Ano,\n",
    "ROW_NUMBER() OVER (PARTITION BY ID ORDER BY Ano) AS Sequencial\n",
    "FROM dados_group_mc\n",
    "\n",
    "\"\"\"\n",
    "spark_session_mc.sql(query).show(70)"
   ]
  },
  {
   "cell_type": "code",
   "execution_count": 166,
   "metadata": {},
   "outputs": [],
   "source": [
    "df_group_id_janelas_mc=spark_session_mc.sql(query)"
   ]
  },
  {
   "cell_type": "code",
   "execution_count": 167,
   "metadata": {},
   "outputs": [
    {
     "data": {
      "text/plain": [
       "19481"
      ]
     },
     "execution_count": 167,
     "metadata": {},
     "output_type": "execute_result"
    }
   ],
   "source": [
    "df_group_id_janelas_mc.count()"
   ]
  },
  {
   "cell_type": "code",
   "execution_count": 168,
   "metadata": {},
   "outputs": [
    {
     "name": "stdout",
     "output_type": "stream",
     "text": [
      "+---------+-------+--------+--------+--------+-------+\n",
      "|       ID|   2019|    2020|    2021|    2022|   2023|\n",
      "+---------+-------+--------+--------+--------+-------+\n",
      "|937250328|   null|    null|    null|    0.00|   null|\n",
      "|936565581|2803.00| 3648.00|  817.00| 3116.00|2052.00|\n",
      "|935826298|   null|    null|  878.00|  747.00| 708.00|\n",
      "|935791263|   null| 2155.00|  831.00| 4381.00|   null|\n",
      "|935626319|   0.00|    0.00|    0.00|    null|   null|\n",
      "|935402733|   null| 2349.00| 3422.00| 4596.00|   0.00|\n",
      "|935298611|   null|  173.00|  231.00|  326.00| 182.00|\n",
      "|935260072|   null|    0.00|  522.00|    0.00|  27.00|\n",
      "|934794039|   0.00|    0.00|    0.00|11643.00|   0.00|\n",
      "|934402481|   null|    null|    null|    null|   null|\n",
      "|933975057|   null|    null|    1.00|   60.00|  65.00|\n",
      "|933887049|   0.00|  422.00|  873.00| 2061.00|   null|\n",
      "|933241298|   null|  140.00|  224.00|  122.00| 131.00|\n",
      "|932213580|   null|    null|    null|    6.00| 104.00|\n",
      "|931866978| 654.00|   21.00| 1522.00|    0.00|   0.00|\n",
      "|931809113|   null|    null|    null|    null|   null|\n",
      "|931808991|   0.00|    0.00|  824.00| 1055.00|   null|\n",
      "|930777126|   null|    null|   48.00|    null|   null|\n",
      "|930402979|   null|15568.00| 7724.00|19887.00|5121.00|\n",
      "|930367871|8573.00|15445.00|13020.00|20355.00| 295.00|\n",
      "+---------+-------+--------+--------+--------+-------+\n",
      "only showing top 20 rows\n",
      "\n"
     ]
    }
   ],
   "source": [
    "#Agregação por cliente (ID) transformando anos em colunas (Pivot)\n",
    "query=\"\"\"\n",
    "SELECT * FROM(\n",
    "SELECT ID, CAST(SUM(TARIFA) AS DECIMAL(15,2)) AS t, ANO\n",
    "FROM dados_mc\n",
    "GROUP BY ID, ANO\n",
    ")\n",
    "PIVOT(\n",
    "    SUM(t)\n",
    "    FOR Ano\n",
    "    in ('2019','2020','2021','2022','2023')\n",
    ")\n",
    "\n",
    "ORDER BY ID DESC\n",
    "\n",
    "\"\"\"\n",
    "spark_session_mc.sql(query).show()"
   ]
  },
  {
   "cell_type": "code",
   "execution_count": 169,
   "metadata": {},
   "outputs": [],
   "source": [
    "#Salvando a query em pySpark Dataframe\n",
    "df_group_id_anos_mc=spark_session_mc.sql(query)"
   ]
  },
  {
   "cell_type": "code",
   "execution_count": 170,
   "metadata": {},
   "outputs": [
    {
     "data": {
      "text/plain": [
       "4517"
      ]
     },
     "execution_count": 170,
     "metadata": {},
     "output_type": "execute_result"
    }
   ],
   "source": [
    "df_group_id_anos_mc.count()"
   ]
  },
  {
   "cell_type": "markdown",
   "metadata": {},
   "source": [
    "## Unificando os dois datasets"
   ]
  },
  {
   "cell_type": "code",
   "execution_count": null,
   "metadata": {},
   "outputs": [],
   "source": [
    "#Comparando a quantidade de linhas (clientes) dos 2 dataset, nota-se que o dataset_mc possui mais registros \n",
    "#Então vamos fazer inner_join, considerando apenas os dados constantes nos 2 datasets, pois para calcular o valor das tarifas, \n",
    "#que é o objetivo da junção dos datasets, são necessários o volume de tarifas em reais e os dados de quantidade de guias. \n"
   ]
  },
  {
   "cell_type": "code",
   "execution_count": 171,
   "metadata": {},
   "outputs": [
    {
     "data": {
      "text/plain": [
       "17861"
      ]
     },
     "execution_count": 171,
     "metadata": {},
     "output_type": "execute_result"
    }
   ],
   "source": [
    "df_group_id_janelas_arrec.count()"
   ]
  },
  {
   "cell_type": "code",
   "execution_count": 172,
   "metadata": {},
   "outputs": [
    {
     "data": {
      "text/plain": [
       "19481"
      ]
     },
     "execution_count": 172,
     "metadata": {},
     "output_type": "execute_result"
    }
   ],
   "source": [
    "df_group_id_janelas_mc.count()"
   ]
  },
  {
   "cell_type": "code",
   "execution_count": 173,
   "metadata": {},
   "outputs": [
    {
     "data": {
      "text/plain": [
       "1620"
      ]
     },
     "execution_count": 173,
     "metadata": {},
     "output_type": "execute_result"
    }
   ],
   "source": [
    "df_group_id_janelas_mc.count()-df_group_id_janelas_arrec.count()"
   ]
  },
  {
   "cell_type": "code",
   "execution_count": 174,
   "metadata": {},
   "outputs": [],
   "source": [
    "df_group_id_janelas_arrec.createOrReplaceTempView('dados_group_arrec')\n"
   ]
  },
  {
   "cell_type": "code",
   "execution_count": 175,
   "metadata": {},
   "outputs": [],
   "source": [
    "df_group_id_janelas_mc.createOrReplaceTempView('dados_group_mc')"
   ]
  },
  {
   "cell_type": "code",
   "execution_count": 176,
   "metadata": {},
   "outputs": [
    {
     "name": "stdout",
     "output_type": "stream",
     "text": [
      "+-----+---+---------+------------------+--------------+----+----------+\n",
      "|   ID| UF|   Esfera|Soma_de_quantidade|Soma_de_volume| Ano|Sequencial|\n",
      "+-----+---+---------+------------------+--------------+----+----------+\n",
      "| 1198| PR|MUNICIPAL|              1341|         35.00|2022|         1|\n",
      "| 1198| PR|MUNICIPAL|              2573|         70.00|2023|         2|\n",
      "| 1821| PR|MUNICIPAL|              5235|          null|2019|         1|\n",
      "| 1821| PR|MUNICIPAL|             12143|      28178.00|2020|         2|\n",
      "| 1821| PR|MUNICIPAL|             13058|          null|2021|         3|\n",
      "| 1821| PR|MUNICIPAL|              2257|       9000.00|2022|         4|\n",
      "| 1821| PR|MUNICIPAL|               242|          null|2023|         5|\n",
      "| 7219| PR| ESTADUAL|              2569|     216919.00|2021|         1|\n",
      "| 7219| PR| ESTADUAL|             12435|    1582179.00|2022|         2|\n",
      "| 7219| PR| ESTADUAL|              1119|     248557.00|2023|         3|\n",
      "| 7607| PR|MUNICIPAL|              6169|      86780.00|2022|         1|\n",
      "| 7607| PR|MUNICIPAL|              2400|       1529.00|2023|         2|\n",
      "|47893| PR|MUNICIPAL|               539|          null|2019|         1|\n",
      "|47893| PR|MUNICIPAL|               190|       1880.00|2020|         2|\n",
      "|47893| PR|MUNICIPAL|               120|      15353.00|2021|         3|\n",
      "|47893| PR|MUNICIPAL|                83|          null|2022|         4|\n",
      "|47893| PR|MUNICIPAL|                86|        281.00|2023|         5|\n",
      "|50243| PR|MUNICIPAL|              4260|       5636.00|2019|         1|\n",
      "|50243| PR|MUNICIPAL|             10698|          null|2020|         2|\n",
      "|50243| PR|MUNICIPAL|             16153|          null|2021|         3|\n",
      "+-----+---+---------+------------------+--------------+----+----------+\n",
      "only showing top 20 rows\n",
      "\n"
     ]
    }
   ],
   "source": [
    "df_group_id_janelas_arrec.show()"
   ]
  },
  {
   "cell_type": "code",
   "execution_count": 177,
   "metadata": {},
   "outputs": [
    {
     "name": "stdout",
     "output_type": "stream",
     "text": [
      "+-----+-----------------+---+---------------+--------------+----+----------+\n",
      "|   ID|Cod_Tipo_Cart_Rel| UF|Soma_de_tarifas|Soma_de_margem| Ano|Sequencial|\n",
      "+-----+-----------------+---+---------------+--------------+----+----------+\n",
      "| 1198|              407| PR|          21.00|          null|2022|         1|\n",
      "| 1198|              407| PR|          42.00|          null|2023|         2|\n",
      "| 1821|              406| PR|           null|          null|2019|         1|\n",
      "| 1821|              406| PR|           null|          null|2020|         2|\n",
      "| 1821|              406| PR|           null|          null|2021|         3|\n",
      "| 1821|              406| PR|           null|          null|2022|         4|\n",
      "| 1821|              406| PR|         455.00|          null|2023|         5|\n",
      "| 7219|              405| PR|           0.00|          null|2021|         1|\n",
      "| 7219|              405| PR|           null|          null|2022|         2|\n",
      "| 7219|              405| PR|           null|          null|2023|         3|\n",
      "| 7607|              406| PR|        4871.00|          null|2022|         1|\n",
      "| 7607|              406| PR|           null|          null|2023|         2|\n",
      "| 7918|              405| PR|           0.00|          null|2019|         1|\n",
      "| 7918|              405| PR|           0.00|          null|2020|         2|\n",
      "| 7918|              405| PR|           0.00|          null|2021|         3|\n",
      "| 7918|              405| PR|           0.00|          null|2022|         4|\n",
      "| 7918|              405| PR|           0.00|          null|2023|         5|\n",
      "|47893|              406| PR|           null|          null|2019|         1|\n",
      "|47893|              406| PR|         116.00|          null|2020|         2|\n",
      "|47893|              406| PR|         127.00|         46.00|2021|         3|\n",
      "+-----+-----------------+---+---------------+--------------+----+----------+\n",
      "only showing top 20 rows\n",
      "\n"
     ]
    }
   ],
   "source": [
    "df_group_id_janelas_mc.show()"
   ]
  },
  {
   "cell_type": "code",
   "execution_count": 178,
   "metadata": {},
   "outputs": [
    {
     "name": "stdout",
     "output_type": "stream",
     "text": [
      "+---------+-----------------+---+---------+------------------+--------------+---------------+--------------+----+\n",
      "|       ID|Cod_Tipo_Cart_Rel| UF|   Esfera|Soma_de_quantidade|Soma_de_volume|Soma_de_tarifas|Soma_de_margem| Ano|\n",
      "+---------+-----------------+---+---------+------------------+--------------+---------------+--------------+----+\n",
      "|205012677|              406| SP|MUNICIPAL|             38653|     725072.00|           null|          null|2022|\n",
      "|204724337|              406| SP|MUNICIPAL|              8641|          null|           0.00|          null|2021|\n",
      "|200371172|              406| SP|MUNICIPAL|              5256|       1590.00|          80.00|        239.00|2021|\n",
      "|201334555|              406| SP|MUNICIPAL|              1385|        600.00|           null|          null|2019|\n",
      "|106447149|              406| MT|MUNICIPAL|               242|       2275.00|         738.00|          null|2021|\n",
      "|105106107|              406| PA|MUNICIPAL|               879|       1490.00|          98.00|          null|2020|\n",
      "|104487725|              406| PB|MUNICIPAL|              1590|       5084.00|           null|          null|2022|\n",
      "|502884879|              406| PB|MUNICIPAL|              2116|        668.00|           null|          null|2023|\n",
      "|105553637|              406| MA|MUNICIPAL|               739|       2747.00|        2297.00|          null|2021|\n",
      "|103386230|              406| MA|MUNICIPAL|             13134|     224056.00|           null|          null|2021|\n",
      "|100800676|              406| RJ|MUNICIPAL|               158|          null|           null|          null|2020|\n",
      "|204830439|              406| RS|MUNICIPAL|              4538|     163160.00|           null|          null|2023|\n",
      "|402122409|              406| RS|MUNICIPAL|              1534|      10207.00|           null|          null|2021|\n",
      "|205006831|              406| RS|MUNICIPAL|              8039|      40893.00|           null|          null|2020|\n",
      "|700088370|              406| PR|MUNICIPAL|              1646|          null|           null|          null|2020|\n",
      "|700009512|              406| PR|MUNICIPAL|             38097|    3268208.00|           null|          null|2020|\n",
      "|204948403|              406| PR|MUNICIPAL|              4160|     678802.00|           null|          null|2022|\n",
      "|   247907|              406| PR|MUNICIPAL|               445|      36856.00|         180.00|          null|2019|\n",
      "|   344635|              406| PR|MUNICIPAL|                 5|          null|           0.00|          null|2023|\n",
      "|105286876|              406| BA|MUNICIPAL|              1703|        295.00|           null|          null|2019|\n",
      "+---------+-----------------+---+---------+------------------+--------------+---------------+--------------+----+\n",
      "only showing top 20 rows\n",
      "\n"
     ]
    }
   ],
   "source": [
    "#fazendo o inner_join\n",
    "query=\"\"\"\n",
    "SELECT \n",
    "tb_arrec.ID,\n",
    "tb_mc.Cod_Tipo_Cart_Rel,\n",
    "tb_arrec.UF,\n",
    "tb_arrec.Esfera,\n",
    "tb_arrec.Soma_de_quantidade,\n",
    "tb_arrec.Soma_de_volume,\n",
    "tb_mc.Soma_de_tarifas,\n",
    "tb_mc.Soma_de_margem,\n",
    "tb_arrec.Ano\n",
    "FROM dados_group_arrec AS tb_arrec\n",
    "INNER JOIN dados_group_mc AS tb_mc\n",
    "ON tb_arrec.ID = tb_mc.ID AND tb_arrec.Ano = tb_mc.Ano\n",
    "\"\"\"\n",
    "\n",
    "spark_session_arrec.sql(query).show()"
   ]
  },
  {
   "cell_type": "code",
   "execution_count": 179,
   "metadata": {},
   "outputs": [
    {
     "data": {
      "text/plain": [
       "17687"
      ]
     },
     "execution_count": 179,
     "metadata": {},
     "output_type": "execute_result"
    }
   ],
   "source": [
    "spark_session_arrec.sql(query).count()"
   ]
  },
  {
   "cell_type": "code",
   "execution_count": 180,
   "metadata": {},
   "outputs": [],
   "source": [
    "df_consolid = spark_session_arrec.sql(query)"
   ]
  },
  {
   "cell_type": "code",
   "execution_count": 181,
   "metadata": {},
   "outputs": [
    {
     "name": "stdout",
     "output_type": "stream",
     "text": [
      "root\n",
      " |-- ID: integer (nullable = true)\n",
      " |-- Cod_Tipo_Cart_Rel: integer (nullable = true)\n",
      " |-- UF: string (nullable = true)\n",
      " |-- Esfera: string (nullable = true)\n",
      " |-- Soma_de_quantidade: decimal(15,0) (nullable = true)\n",
      " |-- Soma_de_volume: decimal(15,2) (nullable = true)\n",
      " |-- Soma_de_tarifas: decimal(15,2) (nullable = true)\n",
      " |-- Soma_de_margem: decimal(15,2) (nullable = true)\n",
      " |-- Ano: string (nullable = true)\n",
      "\n"
     ]
    }
   ],
   "source": [
    "df_consolid.printSchema()"
   ]
  },
  {
   "cell_type": "code",
   "execution_count": 182,
   "metadata": {},
   "outputs": [],
   "source": [
    "#Transformando valores nulos por zero para possibilitar a realização de cálculos matemáticos\n",
    "df_consolid = df_consolid.na.fill(value=0)"
   ]
  },
  {
   "cell_type": "code",
   "execution_count": 183,
   "metadata": {},
   "outputs": [
    {
     "name": "stdout",
     "output_type": "stream",
     "text": [
      "+---------+-----------------+---+---------+------------------+--------------+---------------+--------------+----+\n",
      "|       ID|Cod_Tipo_Cart_Rel| UF|   Esfera|Soma_de_quantidade|Soma_de_volume|Soma_de_tarifas|Soma_de_margem| Ano|\n",
      "+---------+-----------------+---+---------+------------------+--------------+---------------+--------------+----+\n",
      "|205012677|              406| SP|MUNICIPAL|             38653|     725072.00|           0.00|          0.00|2022|\n",
      "|204724337|              406| SP|MUNICIPAL|              8641|          0.00|           0.00|          0.00|2021|\n",
      "|200371172|              406| SP|MUNICIPAL|              5256|       1590.00|          80.00|        239.00|2021|\n",
      "|201334555|              406| SP|MUNICIPAL|              1385|        600.00|           0.00|          0.00|2019|\n",
      "|106447149|              406| MT|MUNICIPAL|               242|       2275.00|         738.00|          0.00|2021|\n",
      "|105106107|              406| PA|MUNICIPAL|               879|       1490.00|          98.00|          0.00|2020|\n",
      "|104487725|              406| PB|MUNICIPAL|              1590|       5084.00|           0.00|          0.00|2022|\n",
      "|502884879|              406| PB|MUNICIPAL|              2116|        668.00|           0.00|          0.00|2023|\n",
      "|105553637|              406| MA|MUNICIPAL|               739|       2747.00|        2297.00|          0.00|2021|\n",
      "|103386230|              406| MA|MUNICIPAL|             13134|     224056.00|           0.00|          0.00|2021|\n",
      "|100800676|              406| RJ|MUNICIPAL|               158|          0.00|           0.00|          0.00|2020|\n",
      "|204830439|              406| RS|MUNICIPAL|              4538|     163160.00|           0.00|          0.00|2023|\n",
      "|402122409|              406| RS|MUNICIPAL|              1534|      10207.00|           0.00|          0.00|2021|\n",
      "|205006831|              406| RS|MUNICIPAL|              8039|      40893.00|           0.00|          0.00|2020|\n",
      "|700088370|              406| PR|MUNICIPAL|              1646|          0.00|           0.00|          0.00|2020|\n",
      "|700009512|              406| PR|MUNICIPAL|             38097|    3268208.00|           0.00|          0.00|2020|\n",
      "|204948403|              406| PR|MUNICIPAL|              4160|     678802.00|           0.00|          0.00|2022|\n",
      "|   247907|              406| PR|MUNICIPAL|               445|      36856.00|         180.00|          0.00|2019|\n",
      "|   344635|              406| PR|MUNICIPAL|                 5|          0.00|           0.00|          0.00|2023|\n",
      "|105286876|              406| BA|MUNICIPAL|              1703|        295.00|           0.00|          0.00|2019|\n",
      "+---------+-----------------+---+---------+------------------+--------------+---------------+--------------+----+\n",
      "only showing top 20 rows\n",
      "\n"
     ]
    }
   ],
   "source": [
    "df_consolid.show()"
   ]
  },
  {
   "cell_type": "code",
   "execution_count": 184,
   "metadata": {},
   "outputs": [],
   "source": [
    "#Criando a coluna tarifa dividindo a soma de tarifas pela soma de quantidade\n",
    "df_consolid = df_consolid.withColumn(\"Tarifa\",when(col(\"Soma_de_tarifas\")==0,0).otherwise(col(\"Soma_de_tarifas\")/col(\"Soma_de_quantidade\")))"
   ]
  },
  {
   "cell_type": "code",
   "execution_count": 185,
   "metadata": {},
   "outputs": [],
   "source": [
    "#Formatando coluna Tarifa para 2 casa decimais\n",
    "df_consolid = df_consolid.withColumn(\"Tarifa\",round(df_consolid.Tarifa.cast(DoubleType()),2))"
   ]
  },
  {
   "cell_type": "code",
   "execution_count": 188,
   "metadata": {},
   "outputs": [
    {
     "name": "stdout",
     "output_type": "stream",
     "text": [
      "+---------+---------------+------------------+--------------+--------------+------+----+\n",
      "|       ID|Soma_de_tarifas|Soma_de_quantidade|Soma_de_volume|Soma_de_margem|Tarifa| Ano|\n",
      "+---------+---------------+------------------+--------------+--------------+------+----+\n",
      "|205012677|           0.00|             38653|     725072.00|          0.00|   0.0|2022|\n",
      "|204724337|           0.00|              8641|          0.00|          0.00|   0.0|2021|\n",
      "|200371172|          80.00|              5256|       1590.00|        239.00|  0.02|2021|\n",
      "|201334555|           0.00|              1385|        600.00|          0.00|   0.0|2019|\n",
      "|106447149|         738.00|               242|       2275.00|          0.00|  3.05|2021|\n",
      "|105106107|          98.00|               879|       1490.00|          0.00|  0.11|2020|\n",
      "|104487725|           0.00|              1590|       5084.00|          0.00|   0.0|2022|\n",
      "|502884879|           0.00|              2116|        668.00|          0.00|   0.0|2023|\n",
      "|105553637|        2297.00|               739|       2747.00|          0.00|  3.11|2021|\n",
      "|103386230|           0.00|             13134|     224056.00|          0.00|   0.0|2021|\n",
      "|100800676|           0.00|               158|          0.00|          0.00|   0.0|2020|\n",
      "|204830439|           0.00|              4538|     163160.00|          0.00|   0.0|2023|\n",
      "|402122409|           0.00|              1534|      10207.00|          0.00|   0.0|2021|\n",
      "|205006831|           0.00|              8039|      40893.00|          0.00|   0.0|2020|\n",
      "|700088370|           0.00|              1646|          0.00|          0.00|   0.0|2020|\n",
      "|700009512|           0.00|             38097|    3268208.00|          0.00|   0.0|2020|\n",
      "|204948403|           0.00|              4160|     678802.00|          0.00|   0.0|2022|\n",
      "|   247907|         180.00|               445|      36856.00|          0.00|   0.4|2019|\n",
      "|   344635|           0.00|                 5|          0.00|          0.00|   0.0|2023|\n",
      "|105286876|           0.00|              1703|        295.00|          0.00|   0.0|2019|\n",
      "+---------+---------------+------------------+--------------+--------------+------+----+\n",
      "only showing top 20 rows\n",
      "\n"
     ]
    }
   ],
   "source": [
    "df_consolid[['ID','Soma_de_tarifas', 'Soma_de_quantidade', 'Soma_de_volume', 'Soma_de_margem', 'Tarifa', 'Ano']].show()\n"
   ]
  },
  {
   "cell_type": "code",
   "execution_count": 189,
   "metadata": {},
   "outputs": [
    {
     "data": {
      "text/plain": [
       "17687"
      ]
     },
     "execution_count": 189,
     "metadata": {},
     "output_type": "execute_result"
    }
   ],
   "source": [
    "df_consolid.count()"
   ]
  },
  {
   "cell_type": "code",
   "execution_count": 190,
   "metadata": {},
   "outputs": [
    {
     "name": "stdout",
     "output_type": "stream",
     "text": [
      "root\n",
      " |-- ID: integer (nullable = true)\n",
      " |-- Cod_Tipo_Cart_Rel: integer (nullable = true)\n",
      " |-- UF: string (nullable = true)\n",
      " |-- Esfera: string (nullable = true)\n",
      " |-- Soma_de_quantidade: decimal(15,0) (nullable = true)\n",
      " |-- Soma_de_volume: decimal(15,2) (nullable = true)\n",
      " |-- Soma_de_tarifas: decimal(15,2) (nullable = true)\n",
      " |-- Soma_de_margem: decimal(15,2) (nullable = true)\n",
      " |-- Ano: string (nullable = true)\n",
      " |-- Tarifa: double (nullable = true)\n",
      "\n"
     ]
    }
   ],
   "source": [
    "df_consolid.printSchema()"
   ]
  },
  {
   "cell_type": "markdown",
   "metadata": {},
   "source": [
    "## Excluindo clientes com tarifas negativas e tarifas zeradas em todo o período analisado "
   ]
  },
  {
   "cell_type": "code",
   "execution_count": 191,
   "metadata": {},
   "outputs": [],
   "source": [
    "#Vamos criar uma nova tabela temporária para fazer manipulações via sql\n",
    "\n",
    "df_consolid.createOrReplaceTempView('dados_consolid_ano')"
   ]
  },
  {
   "cell_type": "code",
   "execution_count": 192,
   "metadata": {},
   "outputs": [
    {
     "name": "stdout",
     "output_type": "stream",
     "text": [
      "+---------+-----------------+---+---------+------------------+--------------+---------------+--------------+----+------+\n",
      "|       ID|Cod_Tipo_Cart_Rel| UF|   Esfera|Soma_de_quantidade|Soma_de_volume|Soma_de_tarifas|Soma_de_margem| Ano|Tarifa|\n",
      "+---------+-----------------+---+---------+------------------+--------------+---------------+--------------+----+------+\n",
      "|205012677|              406| SP|MUNICIPAL|             38653|     725072.00|           0.00|          0.00|2022|   0.0|\n",
      "|204724337|              406| SP|MUNICIPAL|              8641|          0.00|           0.00|          0.00|2021|   0.0|\n",
      "|200371172|              406| SP|MUNICIPAL|              5256|       1590.00|          80.00|        239.00|2021|  0.02|\n",
      "|201334555|              406| SP|MUNICIPAL|              1385|        600.00|           0.00|          0.00|2019|   0.0|\n",
      "|106447149|              406| MT|MUNICIPAL|               242|       2275.00|         738.00|          0.00|2021|  3.05|\n",
      "|105106107|              406| PA|MUNICIPAL|               879|       1490.00|          98.00|          0.00|2020|  0.11|\n",
      "|104487725|              406| PB|MUNICIPAL|              1590|       5084.00|           0.00|          0.00|2022|   0.0|\n",
      "|502884879|              406| PB|MUNICIPAL|              2116|        668.00|           0.00|          0.00|2023|   0.0|\n",
      "|105553637|              406| MA|MUNICIPAL|               739|       2747.00|        2297.00|          0.00|2021|  3.11|\n",
      "|103386230|              406| MA|MUNICIPAL|             13134|     224056.00|           0.00|          0.00|2021|   0.0|\n",
      "|100800676|              406| RJ|MUNICIPAL|               158|          0.00|           0.00|          0.00|2020|   0.0|\n",
      "|204830439|              406| RS|MUNICIPAL|              4538|     163160.00|           0.00|          0.00|2023|   0.0|\n",
      "|402122409|              406| RS|MUNICIPAL|              1534|      10207.00|           0.00|          0.00|2021|   0.0|\n",
      "|205006831|              406| RS|MUNICIPAL|              8039|      40893.00|           0.00|          0.00|2020|   0.0|\n",
      "|700088370|              406| PR|MUNICIPAL|              1646|          0.00|           0.00|          0.00|2020|   0.0|\n",
      "|700009512|              406| PR|MUNICIPAL|             38097|    3268208.00|           0.00|          0.00|2020|   0.0|\n",
      "|204948403|              406| PR|MUNICIPAL|              4160|     678802.00|           0.00|          0.00|2022|   0.0|\n",
      "|   247907|              406| PR|MUNICIPAL|               445|      36856.00|         180.00|          0.00|2019|   0.4|\n",
      "|   344635|              406| PR|MUNICIPAL|                 5|          0.00|           0.00|          0.00|2023|   0.0|\n",
      "|105286876|              406| BA|MUNICIPAL|              1703|        295.00|           0.00|          0.00|2019|   0.0|\n",
      "+---------+-----------------+---+---------+------------------+--------------+---------------+--------------+----+------+\n",
      "only showing top 20 rows\n",
      "\n"
     ]
    }
   ],
   "source": [
    "spark_session_arrec.sql(\"SELECT * FROM dados_consolid_ano\").show()"
   ]
  },
  {
   "cell_type": "code",
   "execution_count": 193,
   "metadata": {},
   "outputs": [
    {
     "name": "stdout",
     "output_type": "stream",
     "text": [
      "+---------+------------------+---------------+\n",
      "|       ID|Soma_de_quantidade|Soma_de_tarifas|\n",
      "+---------+------------------+---------------+\n",
      "|205800274|             10012|         779.00|\n",
      "|200155586|              4638|           0.00|\n",
      "|518204891|              1716|         561.00|\n",
      "|914200901|             98445|       77931.00|\n",
      "|501388607|              6849|        2718.00|\n",
      "|204396945|             50547|       19714.00|\n",
      "|200250241|             18417|        4340.00|\n",
      "|901119865|             36107|         978.00|\n",
      "|104455819|               955|         255.00|\n",
      "|906071860|             14388|           0.00|\n",
      "|104099929|               604|         690.00|\n",
      "|105187523|             23072|        4412.00|\n",
      "|204579911|              5654|        1027.00|\n",
      "|204795820|                93|           0.00|\n",
      "|105551032|               104|         236.00|\n",
      "|100991653|                14|           0.00|\n",
      "|302951191|               629|         689.00|\n",
      "|104481195|               309|           4.00|\n",
      "|922621589|             84892|       19024.00|\n",
      "| 33199683|             62086|        2331.00|\n",
      "+---------+------------------+---------------+\n",
      "only showing top 20 rows\n",
      "\n"
     ]
    }
   ],
   "source": [
    "#Agregação por cliente (ID)\n",
    "query=\"\"\"\n",
    "SELECT \n",
    "ID,\n",
    "CAST(SUM(Soma_de_quantidade) AS NUMERIC(15)) AS Soma_de_quantidade, \n",
    "CAST(SUM(Soma_de_tarifas) AS DECIMAL(15,2)) AS Soma_de_tarifas\n",
    "FROM dados_consolid_ano\n",
    "GROUP BY ID\n",
    "\n",
    "\"\"\"\n",
    "spark_session_arrec.sql(query).show()"
   ]
  },
  {
   "cell_type": "code",
   "execution_count": 194,
   "metadata": {},
   "outputs": [],
   "source": [
    "df_clientes_com_tfa = spark_session_arrec.sql(query)"
   ]
  },
  {
   "cell_type": "code",
   "execution_count": 195,
   "metadata": {},
   "outputs": [
    {
     "name": "stdout",
     "output_type": "stream",
     "text": [
      "root\n",
      " |-- ID: integer (nullable = true)\n",
      " |-- Soma_de_quantidade: decimal(15,0) (nullable = true)\n",
      " |-- Soma_de_tarifas: decimal(15,2) (nullable = true)\n",
      "\n"
     ]
    }
   ],
   "source": [
    "df_clientes_com_tfa.printSchema()"
   ]
  },
  {
   "cell_type": "code",
   "execution_count": 196,
   "metadata": {},
   "outputs": [],
   "source": [
    "#Transformando valores nulos por zero para possibilitar a realização de cálculos matemáticos\n",
    "df_clientes_com_tfa = df_clientes_com_tfa.na.fill(value=0)"
   ]
  },
  {
   "cell_type": "code",
   "execution_count": 197,
   "metadata": {},
   "outputs": [],
   "source": [
    "#Criando a coluna tarifa dividindo a soma de tarifas pela soma de quantidade\n",
    "df_clientes_com_tfa = df_clientes_com_tfa.withColumn(\"Tarifa\",when(col(\"Soma_de_tarifas\")==0,0).otherwise(col(\"Soma_de_tarifas\")/col(\"Soma_de_quantidade\")))"
   ]
  },
  {
   "cell_type": "code",
   "execution_count": 198,
   "metadata": {},
   "outputs": [],
   "source": [
    "#Formatando coluna Tarifa para 2 casa decimais\n",
    "df_clientes_com_tfa = df_clientes_com_tfa.withColumn(\"Tarifa\",round(df_clientes_com_tfa.Tarifa.cast(DoubleType()),2))"
   ]
  },
  {
   "cell_type": "code",
   "execution_count": 199,
   "metadata": {},
   "outputs": [
    {
     "name": "stdout",
     "output_type": "stream",
     "text": [
      "+---------+------------------+---------------+------+\n",
      "|       ID|Soma_de_quantidade|Soma_de_tarifas|Tarifa|\n",
      "+---------+------------------+---------------+------+\n",
      "|205800274|             10012|         779.00|  0.08|\n",
      "|200155586|              4638|           0.00|   0.0|\n",
      "|518204891|              1716|         561.00|  0.33|\n",
      "|914200901|             98445|       77931.00|  0.79|\n",
      "|501388607|              6849|        2718.00|   0.4|\n",
      "|204396945|             50547|       19714.00|  0.39|\n",
      "|200250241|             18417|        4340.00|  0.24|\n",
      "|901119865|             36107|         978.00|  0.03|\n",
      "|104455819|               955|         255.00|  0.27|\n",
      "|906071860|             14388|           0.00|   0.0|\n",
      "|104099929|               604|         690.00|  1.14|\n",
      "|105187523|             23072|        4412.00|  0.19|\n",
      "|204579911|              5654|        1027.00|  0.18|\n",
      "|204795820|                93|           0.00|   0.0|\n",
      "|105551032|               104|         236.00|  2.27|\n",
      "|100991653|                14|           0.00|   0.0|\n",
      "|302951191|               629|         689.00|   1.1|\n",
      "|104481195|               309|           4.00|  0.01|\n",
      "|922621589|             84892|       19024.00|  0.22|\n",
      "| 33199683|             62086|        2331.00|  0.04|\n",
      "+---------+------------------+---------------+------+\n",
      "only showing top 20 rows\n",
      "\n"
     ]
    }
   ],
   "source": [
    "df_clientes_com_tfa.show()"
   ]
  },
  {
   "cell_type": "code",
   "execution_count": 200,
   "metadata": {},
   "outputs": [
    {
     "data": {
      "text/plain": [
       "4115"
      ]
     },
     "execution_count": 200,
     "metadata": {},
     "output_type": "execute_result"
    }
   ],
   "source": [
    "df_clientes_com_tfa.count()"
   ]
  },
  {
   "cell_type": "code",
   "execution_count": 201,
   "metadata": {},
   "outputs": [
    {
     "data": {
      "text/plain": [
       "710"
      ]
     },
     "execution_count": 201,
     "metadata": {},
     "output_type": "execute_result"
    }
   ],
   "source": [
    "df_clientes_com_tfa.filter(\"Tarifa == 0\").count()"
   ]
  },
  {
   "cell_type": "code",
   "execution_count": 202,
   "metadata": {},
   "outputs": [
    {
     "data": {
      "text/plain": [
       "1"
      ]
     },
     "execution_count": 202,
     "metadata": {},
     "output_type": "execute_result"
    }
   ],
   "source": [
    "df_clientes_com_tfa.filter(\"Tarifa < 0\").count()"
   ]
  },
  {
   "cell_type": "code",
   "execution_count": 203,
   "metadata": {},
   "outputs": [
    {
     "data": {
      "text/plain": [
       "3404"
      ]
     },
     "execution_count": 203,
     "metadata": {},
     "output_type": "execute_result"
    }
   ],
   "source": [
    "df_clientes_com_tfa.filter(\"Tarifa > 0\").count()"
   ]
  },
  {
   "cell_type": "code",
   "execution_count": 204,
   "metadata": {},
   "outputs": [],
   "source": [
    "df_clientes_com_tfa = df_clientes_com_tfa.filter(\"Tarifa > 0\")"
   ]
  },
  {
   "cell_type": "code",
   "execution_count": 205,
   "metadata": {},
   "outputs": [
    {
     "data": {
      "text/plain": [
       "3404"
      ]
     },
     "execution_count": 205,
     "metadata": {},
     "output_type": "execute_result"
    }
   ],
   "source": [
    "df_clientes_com_tfa.count()"
   ]
  },
  {
   "cell_type": "code",
   "execution_count": 206,
   "metadata": {},
   "outputs": [
    {
     "name": "stdout",
     "output_type": "stream",
     "text": [
      "+---------+------------------+---------------+------+\n",
      "|       ID|Soma_de_quantidade|Soma_de_tarifas|Tarifa|\n",
      "+---------+------------------+---------------+------+\n",
      "|205800274|             10012|         779.00|  0.08|\n",
      "|518204891|              1716|         561.00|  0.33|\n",
      "|914200901|             98445|       77931.00|  0.79|\n",
      "|501388607|              6849|        2718.00|   0.4|\n",
      "|204396945|             50547|       19714.00|  0.39|\n",
      "|200250241|             18417|        4340.00|  0.24|\n",
      "|901119865|             36107|         978.00|  0.03|\n",
      "|104455819|               955|         255.00|  0.27|\n",
      "|104099929|               604|         690.00|  1.14|\n",
      "|105187523|             23072|        4412.00|  0.19|\n",
      "|204579911|              5654|        1027.00|  0.18|\n",
      "|105551032|               104|         236.00|  2.27|\n",
      "|302951191|               629|         689.00|   1.1|\n",
      "|104481195|               309|           4.00|  0.01|\n",
      "|922621589|             84892|       19024.00|  0.22|\n",
      "| 33199683|             62086|        2331.00|  0.04|\n",
      "|105068133|              5190|        4192.00|  0.81|\n",
      "|901399041|             26196|        3456.00|  0.13|\n",
      "|500474624|              4827|        4152.00|  0.86|\n",
      "|602700564|             34640|        9857.00|  0.28|\n",
      "+---------+------------------+---------------+------+\n",
      "only showing top 20 rows\n",
      "\n"
     ]
    }
   ],
   "source": [
    "df_clientes_com_tfa.show()"
   ]
  },
  {
   "cell_type": "code",
   "execution_count": null,
   "metadata": {},
   "outputs": [],
   "source": [
    "# Agora que descobrimos quais os clientes possuem tarifas vamos cruzar o dataset de clientes com tarifa com o \n",
    "#dataset consolidado para excluir os 710 registros com tarifa zero, deixando o dataset limpo com 3404 clientes."
   ]
  },
  {
   "cell_type": "code",
   "execution_count": 207,
   "metadata": {},
   "outputs": [],
   "source": [
    "df_clientes_com_tfa.createOrReplaceTempView('dados_clientes')"
   ]
  },
  {
   "cell_type": "code",
   "execution_count": 208,
   "metadata": {},
   "outputs": [],
   "source": [
    "df_consolid.createOrReplaceTempView('dados_consolid')"
   ]
  },
  {
   "cell_type": "code",
   "execution_count": 209,
   "metadata": {},
   "outputs": [
    {
     "data": {
      "text/plain": [
       "['ID',\n",
       " 'Cod_Tipo_Cart_Rel',\n",
       " 'UF',\n",
       " 'Esfera',\n",
       " 'Soma_de_quantidade',\n",
       " 'Soma_de_volume',\n",
       " 'Soma_de_tarifas',\n",
       " 'Soma_de_margem',\n",
       " 'Ano',\n",
       " 'Tarifa']"
      ]
     },
     "execution_count": 209,
     "metadata": {},
     "output_type": "execute_result"
    }
   ],
   "source": [
    "df_consolid.columns"
   ]
  },
  {
   "cell_type": "code",
   "execution_count": 210,
   "metadata": {},
   "outputs": [
    {
     "name": "stdout",
     "output_type": "stream",
     "text": [
      "+-----+-----------------+---+---------+------------------+--------------+---------------+--------------+------+----+\n",
      "|   ID|Cod_Tipo_Cart_Rel| UF|   Esfera|Soma_de_quantidade|Soma_de_volume|Soma_de_tarifas|Soma_de_margem|Tarifa| Ano|\n",
      "+-----+-----------------+---+---------+------------------+--------------+---------------+--------------+------+----+\n",
      "| 1198|              407| PR|MUNICIPAL|              1341|         35.00|          21.00|          0.00|  0.02|2022|\n",
      "| 1198|              407| PR|MUNICIPAL|              2573|         70.00|          42.00|          0.00|  0.02|2023|\n",
      "| 1821|              406| PR|MUNICIPAL|              5235|          0.00|           0.00|          0.00|   0.0|2019|\n",
      "| 1821|              406| PR|MUNICIPAL|             12143|      28178.00|           0.00|          0.00|   0.0|2020|\n",
      "| 1821|              406| PR|MUNICIPAL|             13058|          0.00|           0.00|          0.00|   0.0|2021|\n",
      "| 1821|              406| PR|MUNICIPAL|              2257|       9000.00|           0.00|          0.00|   0.0|2022|\n",
      "| 1821|              406| PR|MUNICIPAL|               242|          0.00|         455.00|          0.00|  1.88|2023|\n",
      "| 7607|              406| PR|MUNICIPAL|              6169|      86780.00|        4871.00|          0.00|  0.79|2022|\n",
      "| 7607|              406| PR|MUNICIPAL|              2400|       1529.00|           0.00|          0.00|   0.0|2023|\n",
      "|47893|              406| PR|MUNICIPAL|               539|          0.00|           0.00|          0.00|   0.0|2019|\n",
      "|47893|              406| PR|MUNICIPAL|               190|       1880.00|         116.00|          0.00|  0.61|2020|\n",
      "|47893|              406| PR|MUNICIPAL|               120|      15353.00|         127.00|         46.00|  1.06|2021|\n",
      "|47893|              406| PR|MUNICIPAL|                83|          0.00|          46.00|          0.00|  0.55|2022|\n",
      "|47893|              406| PR|MUNICIPAL|                86|        281.00|          38.00|          0.00|  0.44|2023|\n",
      "|50243|              406| PR|MUNICIPAL|              4260|       5636.00|           0.00|          0.00|   0.0|2019|\n",
      "|50243|              406| PR|MUNICIPAL|             10698|          0.00|         972.00|          0.00|  0.09|2020|\n",
      "|50243|              406| PR|MUNICIPAL|             16153|          0.00|           0.00|          0.00|   0.0|2021|\n",
      "|50243|              406| PR|MUNICIPAL|             23178|      30883.00|           0.00|          0.00|   0.0|2022|\n",
      "|50243|              406| PR|MUNICIPAL|              3905|       8373.00|           0.00|          0.00|   0.0|2023|\n",
      "|68019|              407| PR|MUNICIPAL|               853|       1351.00|        1554.00|          0.00|  1.82|2019|\n",
      "+-----+-----------------+---+---------+------------------+--------------+---------------+--------------+------+----+\n",
      "only showing top 20 rows\n",
      "\n"
     ]
    }
   ],
   "source": [
    "#fazendo o inner_join\n",
    "query=\"\"\"\n",
    "SELECT \n",
    "tb_clientes.ID,\n",
    "tb_consolid.Cod_Tipo_Cart_Rel,\n",
    "tb_consolid.UF,\n",
    "tb_consolid.Esfera,\n",
    "tb_consolid.Soma_de_quantidade,\n",
    "tb_consolid.Soma_de_volume,\n",
    "tb_consolid.Soma_de_tarifas,\n",
    "tb_consolid.Soma_de_margem,\n",
    "tb_consolid.Tarifa,\n",
    "tb_consolid.Ano\n",
    "FROM dados_consolid AS tb_consolid\n",
    "INNER JOIN dados_clientes AS tb_clientes\n",
    "ON tb_clientes.ID = tb_consolid.ID\n",
    "\"\"\"\n",
    "\n",
    "spark_session_arrec.sql(query).show()"
   ]
  },
  {
   "cell_type": "code",
   "execution_count": 211,
   "metadata": {},
   "outputs": [],
   "source": [
    "df_consolid = spark_session_arrec.sql(query)"
   ]
  },
  {
   "cell_type": "code",
   "execution_count": 212,
   "metadata": {},
   "outputs": [
    {
     "data": {
      "text/plain": [
       "15216"
      ]
     },
     "execution_count": 212,
     "metadata": {},
     "output_type": "execute_result"
    }
   ],
   "source": [
    "df_consolid.count()"
   ]
  },
  {
   "cell_type": "code",
   "execution_count": 213,
   "metadata": {},
   "outputs": [
    {
     "data": {
      "text/plain": [
       "6294"
      ]
     },
     "execution_count": 213,
     "metadata": {},
     "output_type": "execute_result"
    }
   ],
   "source": [
    "df_consolid.filter(\"Tarifa == 0\").count()"
   ]
  },
  {
   "cell_type": "code",
   "execution_count": 214,
   "metadata": {},
   "outputs": [
    {
     "data": {
      "text/plain": [
       "2"
      ]
     },
     "execution_count": 214,
     "metadata": {},
     "output_type": "execute_result"
    }
   ],
   "source": [
    "df_consolid.filter(\"Tarifa < 0\").count()"
   ]
  },
  {
   "cell_type": "code",
   "execution_count": 215,
   "metadata": {},
   "outputs": [
    {
     "data": {
      "text/plain": [
       "8920"
      ]
     },
     "execution_count": 215,
     "metadata": {},
     "output_type": "execute_result"
    }
   ],
   "source": [
    "df_consolid.filter(\"Tarifa > 0\").count()"
   ]
  },
  {
   "cell_type": "code",
   "execution_count": 216,
   "metadata": {},
   "outputs": [],
   "source": [
    "df_consolid = df_consolid.filter(\"Tarifa > 0\")"
   ]
  },
  {
   "cell_type": "code",
   "execution_count": 217,
   "metadata": {},
   "outputs": [
    {
     "data": {
      "text/plain": [
       "8920"
      ]
     },
     "execution_count": 217,
     "metadata": {},
     "output_type": "execute_result"
    }
   ],
   "source": [
    "df_consolid.count()"
   ]
  },
  {
   "cell_type": "code",
   "execution_count": 218,
   "metadata": {},
   "outputs": [
    {
     "name": "stdout",
     "output_type": "stream",
     "text": [
      "+-----+-----------------+---+---------+------------------+--------------+---------------+--------------+------+----+\n",
      "|   ID|Cod_Tipo_Cart_Rel| UF|   Esfera|Soma_de_quantidade|Soma_de_volume|Soma_de_tarifas|Soma_de_margem|Tarifa| Ano|\n",
      "+-----+-----------------+---+---------+------------------+--------------+---------------+--------------+------+----+\n",
      "| 1198|              407| PR|MUNICIPAL|              1341|         35.00|          21.00|          0.00|  0.02|2022|\n",
      "| 1198|              407| PR|MUNICIPAL|              2573|         70.00|          42.00|          0.00|  0.02|2023|\n",
      "| 1821|              406| PR|MUNICIPAL|               242|          0.00|         455.00|          0.00|  1.88|2023|\n",
      "| 7607|              406| PR|MUNICIPAL|              6169|      86780.00|        4871.00|          0.00|  0.79|2022|\n",
      "|47893|              406| PR|MUNICIPAL|               190|       1880.00|         116.00|          0.00|  0.61|2020|\n",
      "|47893|              406| PR|MUNICIPAL|               120|      15353.00|         127.00|         46.00|  1.06|2021|\n",
      "|47893|              406| PR|MUNICIPAL|                83|          0.00|          46.00|          0.00|  0.55|2022|\n",
      "|47893|              406| PR|MUNICIPAL|                86|        281.00|          38.00|          0.00|  0.44|2023|\n",
      "|50243|              406| PR|MUNICIPAL|             10698|          0.00|         972.00|          0.00|  0.09|2020|\n",
      "|68019|              407| PR|MUNICIPAL|               853|       1351.00|        1554.00|          0.00|  1.82|2019|\n",
      "|68019|              407| PR|MUNICIPAL|              2384|      24177.00|        2576.00|          0.00|  1.08|2020|\n",
      "|68019|              407| PR|MUNICIPAL|              3306|      35523.00|        3212.00|          0.00|  0.97|2021|\n",
      "|68019|              407| PR|MUNICIPAL|              3739|      46798.00|        4673.00|          0.00|  1.25|2022|\n",
      "|68019|              407| PR|MUNICIPAL|              2088|          0.00|        3983.00|       2101.00|  1.91|2023|\n",
      "|75719|              406| PR|MUNICIPAL|             15168|     501344.00|       13038.00|          0.00|  0.86|2020|\n",
      "|80803|              406| PR|MUNICIPAL|              8205|      22265.00|        6104.00|         31.00|  0.74|2021|\n",
      "|80803|              406| PR|MUNICIPAL|             14435|          0.00|        5725.00|         42.00|   0.4|2022|\n",
      "|81268|              407| PR|MUNICIPAL|              2040|       7718.00|         587.00|          0.00|  0.29|2021|\n",
      "|81272|              407| PR|MUNICIPAL|               116|      13300.00|         139.00|          0.00|   1.2|2019|\n",
      "|81272|              407| PR|MUNICIPAL|               311|      23442.00|         208.00|          0.00|  0.67|2020|\n",
      "+-----+-----------------+---+---------+------------------+--------------+---------------+--------------+------+----+\n",
      "only showing top 20 rows\n",
      "\n"
     ]
    }
   ],
   "source": [
    "df_consolid.show()"
   ]
  },
  {
   "cell_type": "code",
   "execution_count": 219,
   "metadata": {},
   "outputs": [
    {
     "name": "stdout",
     "output_type": "stream",
     "text": [
      "root\n",
      " |-- ID: integer (nullable = true)\n",
      " |-- Cod_Tipo_Cart_Rel: integer (nullable = true)\n",
      " |-- UF: string (nullable = true)\n",
      " |-- Esfera: string (nullable = true)\n",
      " |-- Soma_de_quantidade: decimal(15,0) (nullable = true)\n",
      " |-- Soma_de_volume: decimal(15,2) (nullable = true)\n",
      " |-- Soma_de_tarifas: decimal(15,2) (nullable = true)\n",
      " |-- Soma_de_margem: decimal(15,2) (nullable = true)\n",
      " |-- Tarifa: double (nullable = true)\n",
      " |-- Ano: string (nullable = true)\n",
      "\n"
     ]
    }
   ],
   "source": [
    "df_consolid.printSchema()"
   ]
  },
  {
   "cell_type": "code",
   "execution_count": 220,
   "metadata": {},
   "outputs": [],
   "source": [
    "df_consolid.createOrReplaceTempView('dados_consolid')"
   ]
  },
  {
   "cell_type": "code",
   "execution_count": 221,
   "metadata": {},
   "outputs": [
    {
     "name": "stdout",
     "output_type": "stream",
     "text": [
      "+---------+-----------------+---+---------+-------------------+---------------+----------------+---------------+------------+\n",
      "|       ID|Cod_Tipo_Cart_Rel| UF|   Esfera|Media_de_quantidade|Media_de_volume|Media_de_tarifas|Media_de_margem|Tarifa_media|\n",
      "+---------+-----------------+---+---------+-------------------+---------------+----------------+---------------+------------+\n",
      "|800809325|              406| MA|MUNICIPAL|             265.00|           0.00|        17757.00|           0.00|      370.91|\n",
      "| 35086758|              403| PB| ESTADUAL|             285.00|         233.50|        21099.00|           0.00|       88.23|\n",
      "|106229821|              403| MT| ESTADUAL|           42224.00|   120169566.50|      2084178.50|           0.00|       58.21|\n",
      "|204823794|              406| SP|MUNICIPAL|             699.75|        1113.25|         1673.25|          22.50|       23.30|\n",
      "|200964047|              400| SP| ESTADUAL|           46241.75|   263002381.00|       787680.75|      109422.00|       22.31|\n",
      "|104839035|              405| MA| ESTADUAL|           11296.25|      139517.75|       226903.75|           0.00|       21.08|\n",
      "|501466442|              403| PE| ESTADUAL|           14037.00|     1128944.80|       297443.40|       60106.20|       20.42|\n",
      "|203015687|              406| SP|MUNICIPAL|               1.00|           0.00|           20.00|           0.00|       20.00|\n",
      "|104372038|              403| MA| ESTADUAL|           77435.00|    23867614.00|      1520186.00|           0.00|       19.63|\n",
      "|103914420|              405| RN| ESTADUAL|           11417.00|         607.00|       203566.00|           0.00|       17.83|\n",
      "|500248069|              405| PB| ESTADUAL|            5441.00|     1054538.33|        83729.33|         723.00|       17.11|\n",
      "|511597022|              407| RN| ESTADUAL|            3106.50|           0.00|        26056.00|         665.50|       16.47|\n",
      "|   476168|              405| MS| ESTADUAL|           20155.00|     8359988.00|       268122.33|           0.00|       13.50|\n",
      "|500019475|              403| CE|MUNICIPAL|           24852.00|      228159.00|       326765.00|           0.00|       12.15|\n",
      "|800797784|              406| MA|MUNICIPAL|           10846.80|       14944.60|        79111.20|        5541.40|       11.86|\n",
      "|900216186|              407| SP|MUNICIPAL|               8.00|          53.00|           82.50|           0.00|       11.32|\n",
      "|200483758|              406| SP|MUNICIPAL|            8741.00|           0.00|        94435.00|           0.00|       10.80|\n",
      "|921374492|              403| RN| ESTADUAL|           23989.00|    14788771.00|       242327.00|           0.00|       10.10|\n",
      "|200963800|              400| SP|MUNICIPAL|           28025.00|     3689297.00|       241384.00|           0.00|        8.61|\n",
      "|105319629|              403| RO| ESTADUAL|           14088.00|       85147.00|       117132.00|           0.00|        8.31|\n",
      "+---------+-----------------+---+---------+-------------------+---------------+----------------+---------------+------------+\n",
      "only showing top 20 rows\n",
      "\n"
     ]
    }
   ],
   "source": [
    "#Agregação por ID com tarifa média\n",
    "\n",
    "query=\"\"\"\n",
    "SELECT \n",
    "ID,\n",
    "ANY_VALUE(Cod_Tipo_Cart_Rel) AS Cod_Tipo_Cart_Rel,\n",
    "ANY_VALUE(UF) AS UF,\n",
    "ANY_VALUE(Esfera) Esfera,\n",
    "CAST(AVG(Soma_de_quantidade) AS DECIMAL(15,2)) AS Media_de_quantidade, \n",
    "CAST(AVG(Soma_de_volume) AS DECIMAL(15,2)) AS Media_de_volume,\n",
    "CAST(AVG(Soma_de_tarifas) AS DECIMAL(15,2)) AS Media_de_tarifas,\n",
    "CAST(AVG(Soma_de_margem) AS DECIMAL(15,2)) AS Media_de_margem,\n",
    "CAST(AVG(Tarifa) AS DECIMAL(15,2)) AS Tarifa_media\n",
    "FROM dados_consolid\n",
    "GROUP BY ID\n",
    "ORDER BY (Tarifa_media) DESC\n",
    "\"\"\"\n",
    "spark_session_mc.sql(query).show()"
   ]
  },
  {
   "cell_type": "code",
   "execution_count": 222,
   "metadata": {},
   "outputs": [],
   "source": [
    "df_consolid=spark_session_mc.sql(query)"
   ]
  },
  {
   "cell_type": "code",
   "execution_count": 223,
   "metadata": {},
   "outputs": [
    {
     "name": "stdout",
     "output_type": "stream",
     "text": [
      "root\n",
      " |-- ID: integer (nullable = true)\n",
      " |-- Cod_Tipo_Cart_Rel: integer (nullable = true)\n",
      " |-- UF: string (nullable = true)\n",
      " |-- Esfera: string (nullable = true)\n",
      " |-- Media_de_quantidade: decimal(15,2) (nullable = true)\n",
      " |-- Media_de_volume: decimal(15,2) (nullable = true)\n",
      " |-- Media_de_tarifas: decimal(15,2) (nullable = true)\n",
      " |-- Media_de_margem: decimal(15,2) (nullable = true)\n",
      " |-- Tarifa_media: decimal(15,2) (nullable = true)\n",
      "\n"
     ]
    }
   ],
   "source": [
    "df_consolid.printSchema()"
   ]
  },
  {
   "cell_type": "code",
   "execution_count": 224,
   "metadata": {},
   "outputs": [
    {
     "data": {
      "text/plain": [
       "3404"
      ]
     },
     "execution_count": 224,
     "metadata": {},
     "output_type": "execute_result"
    }
   ],
   "source": [
    "df_consolid.count()"
   ]
  },
  {
   "cell_type": "code",
   "execution_count": 225,
   "metadata": {},
   "outputs": [],
   "source": [
    "#Convertendo o dataframe do Spark em dataframe do Pandas para facilitar a análise exploratória.\n",
    "df_pd_consolid = df_consolid.toPandas()"
   ]
  },
  {
   "cell_type": "code",
   "execution_count": 226,
   "metadata": {},
   "outputs": [
    {
     "data": {
      "text/plain": [
       "pandas.core.frame.DataFrame"
      ]
     },
     "execution_count": 226,
     "metadata": {},
     "output_type": "execute_result"
    }
   ],
   "source": [
    "type(df_pd_consolid)"
   ]
  },
  {
   "cell_type": "code",
   "execution_count": 227,
   "metadata": {},
   "outputs": [],
   "source": [
    "df_pd_consolid.to_csv('df_pd_consolid_vf.csv', index=False)"
   ]
  },
  {
   "cell_type": "markdown",
   "metadata": {},
   "source": [
    "# Fim"
   ]
  }
 ],
 "metadata": {
  "colab": {
   "name": "BitCoinTrend.ipynb",
   "provenance": []
  },
  "kernelspec": {
   "display_name": "Python 3 (ipykernel)",
   "language": "python",
   "name": "python3"
  },
  "language_info": {
   "codemirror_mode": {
    "name": "ipython",
    "version": 3
   },
   "file_extension": ".py",
   "mimetype": "text/x-python",
   "name": "python",
   "nbconvert_exporter": "python",
   "pygments_lexer": "ipython3",
   "version": "3.10.9"
  }
 },
 "nbformat": 4,
 "nbformat_minor": 1
}
